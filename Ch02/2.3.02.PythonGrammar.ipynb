{
 "cells": [
  {
   "cell_type": "markdown",
   "metadata": {},
   "source": [
    "### Pythonの文法\n",
    "\n",
    "1ブロックずつ実行してみましょう\n",
    "  \n",
    "#はコメントを表します"
   ]
  },
  {
   "cell_type": "markdown",
   "metadata": {},
   "source": [
    "### 四則演算と代入\n",
    "\n",
    "四則演算と累乗の例を示します。  \n",
    "累乗はエクセルやRで使われる ^ ではなく、** で表します。"
   ]
  },
  {
   "cell_type": "code",
   "execution_count": null,
   "metadata": {},
   "outputs": [],
   "source": [
    "#算術演算\n",
    "\n",
    "print(3 + 2)       #和\n",
    "print(3 - 2)       #差\n",
    "print(3 * 2)       #積\n",
    "print(3 / 2)       #商\n",
    "print(3 ** 2)      #累乗\n",
    "\n",
    "print(3**2)        #スペースはなくてもよい"
   ]
  },
  {
   "cell_type": "markdown",
   "metadata": {},
   "source": [
    "代入操作は = で行います。  \n",
    "値を表示する場合は print() 関数を使います。  "
   ]
  },
  {
   "cell_type": "code",
   "execution_count": null,
   "metadata": {},
   "outputs": [],
   "source": [
    "#オブジェクトへの格納（代入操作）\n",
    "\n",
    "a = 1       #1をAに格納\n",
    "A = 2       #2をAに格納\n",
    "b = a + A   #a+Aをbに格納\n",
    "\n",
    "print( b )  #bを表示\n",
    "\n",
    "a   #print()を書かないと値が表示されない\n",
    "A   #ただし、ブロックの最後に書かれたオブジェクトの値は表示される"
   ]
  },
  {
   "cell_type": "markdown",
   "metadata": {},
   "source": [
    "### print()文\n",
    "\n",
    "引数をカンマで区切れば、複数のオブジェクトの値を表示できます。  \n",
    "引用符の中で、バックスラッシュを使うと改行やタブを加えられます。  \n",
    "  >バックスラッシュは￥記号か／のいずれかです。"
   ]
  },
  {
   "cell_type": "code",
   "execution_count": null,
   "metadata": {
    "scrolled": true
   },
   "outputs": [],
   "source": [
    "#print()の使い方\n",
    "\n",
    "print( \"hello!\")\n",
    "print( a, A )\n",
    "print( \"a =\", a, \", A =\", A, \"\\n --- and a+A =\", a+A )\n",
    "\n",
    "# \"\\n\" で改行を挿入\n",
    "# \"\\t\" でタブを挿入\n",
    "\n",
    "# \"%s\" 後の%で指定された文字列を表示する\n",
    "# \"%f\" 後の%で指定された数値を表示する\n",
    "#   --- \"%05.2\"のように、桁数を指定することが可能\n",
    "price = 2.25 ;  fruit = \"orange\"\n",
    "print( \"\\nSale! %s\\t --> $%05.2f\" %(fruit, price) )"
   ]
  },
  {
   "cell_type": "markdown",
   "metadata": {},
   "source": [
    "### リスト\n",
    "\n",
    "リストは複数の要素を格納する箱のようなものです。  \n",
    ">Rのベクトルとの違いに注意してください。  \n",
    "一括で計算の対象とすることはできません。  "
   ]
  },
  {
   "cell_type": "code",
   "execution_count": null,
   "metadata": {},
   "outputs": [],
   "source": [
    "#list\n",
    "# listはただの「箱」で直接計算はできない\n",
    "\n",
    "a = [1, 2, 3]    #(1, 2, 3)をaに格納\n",
    "print(\"a is \", a)       #aはリスト\n",
    "\n",
    "x = [1.5, \"abc\", 2]     #型が異なる要素が含まれていてもよい  \n",
    "print(\"x is \", x)\n",
    "\n",
    "A = range(4, 7)  #(4, 5, 6)をAに格納\n",
    "print(\"A is \", A)       #aはrange object\n",
    "\n",
    "A = list(A)             #Aをリストに変換\n",
    "print(\"A is \", A)       #Aはリスト\n",
    "\n",
    "print(\"a+A is \", a+A)   #\"+\"でリストを結合（足し算ではない）"
   ]
  },
  {
   "cell_type": "code",
   "execution_count": null,
   "metadata": {},
   "outputs": [],
   "source": [
    "#リスト型のオブジェクトに対する操作\n",
    "fr1 = \"apple\"                   #文字列\n",
    "fr2 = [\"orange\", \"lemon\"]       #文字列を要素とするリスト\n",
    "\n",
    "fr2.insert(0, fr1)              #0はリストの先頭を示す\n",
    "print(\"inserted -> \", fr2)\n",
    "\n",
    "fr2.append(fr1)                 #.append()は最後に要素を追加する\n",
    "print(\"appended -> \", fr2)"
   ]
  },
  {
   "cell_type": "code",
   "execution_count": null,
   "metadata": {},
   "outputs": [],
   "source": [
    "#リストの扱いに関する注意\n",
    "fr3 = fr2                       #fr2をfr3に代入（割り当て）\n",
    "fr2[3] = \"kiwi\"                 #fr2の最後の要素をkiwiに変更\n",
    "\n",
    "print(\"\\nfr2 is \", fr2)         #変更後のfr2\n",
    "print(\"fr3 is \",   fr3)         #fr2の変更がfr3に反映されている\n",
    "\n",
    "fr4 = fr1                       #fr1をfr4に代入（コピー）\n",
    "fr1 = \"melon\"                   #fr1をmelonに変更\n",
    "print(\"\\nfr1 is \", fr1)         #変更後のfr1\n",
    "print(\"fr4 is \"  , fr4)         #fr1の変更はfr4に反映されない"
   ]
  },
  {
   "cell_type": "markdown",
   "metadata": {},
   "source": [
    "### 論理式\n",
    "\n",
    "比較演算子を使うと結果は論理値として返されます。  \n",
    ">比較演算子として >, >=, <, <=, ==, != などを使うことができます。  \n",
    "結果はTrueかFalseのいずれかとなります。"
   ]
  },
  {
   "cell_type": "code",
   "execution_count": null,
   "metadata": {},
   "outputs": [],
   "source": [
    "#比較演算\n",
    "\n",
    "bool_list = [ 2 >= 0.5,       2 < 1+1, \n",
    "             \"pen\"==\"apple\", \"pen\"!=\"apple\"] \n",
    "print(bool_list)"
   ]
  },
  {
   "cell_type": "markdown",
   "metadata": {},
   "source": [
    "### 型の確認\n",
    "\n",
    "オブジェクトの型は、関数type()で確認できます。"
   ]
  },
  {
   "cell_type": "code",
   "execution_count": null,
   "metadata": {},
   "outputs": [],
   "source": [
    "#オブジェクトの型\n",
    "\n",
    "print( \"fr1 : \", type(fr1) )    #type()で型を表示  文字列\n",
    "print( \"fr2 : \", type(fr2) )                      #リスト\n",
    "print( \"3   : \", type(3)   )                      #整数\n",
    "print( \"3.3 : \", type(3.3) )                      #実数(浮動小数点)\n",
    "print( \"True: \", type(True))                      #論理"
   ]
  },
  {
   "cell_type": "markdown",
   "metadata": {},
   "source": [
    "### 添字\n",
    "\n",
    "リストから要素を取り出す場合は添字を指定します。"
   ]
  },
  {
   "cell_type": "code",
   "execution_count": null,
   "metadata": {},
   "outputs": [],
   "source": [
    "#添字（インデクス）\n",
    "# -- Pythonでは1ではなく0から数える\n",
    "\n",
    "print( fr2 )  \n",
    "\n",
    "print(\"\\n\")  \n",
    "print(\" 0, 2:\", fr2[0],  fr2[2] )  #頭から数える\n",
    "print(\"-1,-2:\", fr2[-1], fr2[-2])  #最後から数える\n",
    "\n",
    "print(\"\\n\")\n",
    "print(\"from 0 to 3:\", fr2[0:3])     #0から3の前まで（つまり2まで）\n",
    "print(\"the 1st ...:\", fr2[0:3][1] ) #そのうちの1つめの要素"
   ]
  },
  {
   "cell_type": "markdown",
   "metadata": {},
   "source": [
    "### タプル\n",
    "\n",
    "タプルはリストに似たデータ型で、丸括弧で表します。  \n",
    "タプルでは内容の変更ができません。  \n",
    ">下記を実行するとエラーが発生します（変えられないものを変えようとするため）。"
   ]
  },
  {
   "cell_type": "code",
   "execution_count": null,
   "metadata": {},
   "outputs": [],
   "source": [
    "#タプル\n",
    "# -- リストと同様だが、内容を変えられない\n",
    "\n",
    "#2つのタプルを含むタプル\n",
    "two_tapples = ((\"A\", \"B\", \"C\", \"D\"), (\"apple\", \"orange\", \"lemon\", \"apple\"))\n",
    "\n",
    "print( two_tapples )\n",
    "print( two_tapples[1][2] )      #(0から数えて)1番目のタプルの2番目の要素\n",
    "\n",
    "two_tapples[1][2] = \"orange\"    #内容は変えられない…TypeErrorが発生 "
   ]
  },
  {
   "cell_type": "markdown",
   "metadata": {},
   "source": [
    "### ディクショナリ\n",
    "ディクショナリもリストに似たデータ型です。  \n",
    "キーと値を対で格納するところが特徴です。"
   ]
  },
  {
   "cell_type": "code",
   "execution_count": null,
   "metadata": {},
   "outputs": [],
   "source": [
    "#ディクショナリ\n",
    "# -- キーと値の対で構成される\n",
    "\n",
    "# : を挟んで前にキー、後に値を記述（ここでは4つの要素を格納）\n",
    "Price = { \"Kids\":None, \"Short\":2.45, \"Medium\":2.85, \"Tall\":3.25, \"Grand\":3.65 }\n",
    "\n",
    "print( \"Price of Medium : \", Price[\"Medium\"] )  #キーの名称を指定して参照\n",
    "\n",
    "print( \"\\n\" )\n",
    "print( \"keys=   \", Price.keys()   )   #キーの一覧\n",
    "print( \"values= \", Price.values() )   #値の一覧"
   ]
  },
  {
   "cell_type": "code",
   "execution_count": null,
   "metadata": {},
   "outputs": [],
   "source": []
  }
 ],
 "metadata": {
  "anaconda-cloud": {},
  "kernelspec": {
   "display_name": "Python 3",
   "language": "python",
   "name": "python3"
  },
  "language_info": {
   "codemirror_mode": {
    "name": "ipython",
    "version": 3
   },
   "file_extension": ".py",
   "mimetype": "text/x-python",
   "name": "python",
   "nbconvert_exporter": "python",
   "pygments_lexer": "ipython3",
   "version": "3.7.0"
  }
 },
 "nbformat": 4,
 "nbformat_minor": 1
}
