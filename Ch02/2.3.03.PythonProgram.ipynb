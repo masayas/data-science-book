{
 "cells": [
  {
   "cell_type": "markdown",
   "metadata": {},
   "source": [
    "### Pythonによるプログラミング\n",
    "\n",
    "1ブロックずつ実行してみましょう\n",
    "  \n",
    "#はコメントを表します"
   ]
  },
  {
   "cell_type": "markdown",
   "metadata": {},
   "source": [
    "### プログラムの作法  \n",
    "\n",
    "Pythonは汎用のプログラミング言語です。  \n",
    "このため、一定の作法に沿った記述が求められます。"
   ]
  },
  {
   "cell_type": "code",
   "execution_count": null,
   "metadata": {},
   "outputs": [],
   "source": [
    "#一般的な記法\n",
    "#ただしこのような順番で書かなくても実行は可能（作法の問題）\n",
    "\n",
    "#宣言\n",
    "import sys      #拡張ライブラリsysの読み込み\n",
    "\n",
    "#関数やクラスなどの定義\n",
    "def test(a):    #自作の関数の定義（引数としてaを受け取る）\n",
    "    print(\"これは \", a, \" です\")   #aの前後に文字列を加えて表示する\n",
    "\n",
    "#処理の本体\n",
    "if __name__ == '__main__':  #メインのプログラムであるときに以下を実行する\n",
    "    A = 123.45       #数値を格納\n",
    "    B = \"apple\"      #文字列を格納\n",
    "    C = sys.version  #sysが持つ.versionという機能(Pythonのバージョンを取得)\n",
    "    test(A)          #自作の関数を実行\n",
    "    test(B)\n",
    "    test(C)\n"
   ]
  },
  {
   "cell_type": "markdown",
   "metadata": {},
   "source": [
    "分析ツールとしてPythonを使う場合は、作法を気にしすぎる必要はないでしょう。  \n",
    "作法に沿っていなくても、プログラムの実行は可能です。"
   ]
  },
  {
   "cell_type": "code",
   "execution_count": null,
   "metadata": {},
   "outputs": [],
   "source": [
    "#作法に沿っていないが実行できる例\n",
    "\n",
    "A = 123.45       #数値を格納\n",
    "B = \"apple\"      #文字列を格納\n",
    "\n",
    "import sys      #拡張ライブラリsysの読み込み\n",
    "C = sys.version  #sysが持つ.versionという機能(Pythonのバージョンを取得)\n",
    "\n",
    "def test(a):    #自作の関数の定義（引数としてaを受け取る）\n",
    "    print(\"これは \", a, \" です\")   #aの前後に文字列を加えて表示する\n",
    "    \n",
    "test(A)          #自作の関数を実行\n",
    "test(B)\n",
    "test(C)\n"
   ]
  },
  {
   "cell_type": "markdown",
   "metadata": {},
   "source": [
    "### 制御構造(if, for)、自作関数の作成(def)  \n",
    "\n",
    "関数を定義する例を示します。  \n",
    "Rで作成したものと同じく、注文のサイズに応じて価格を返す関数を作ります。\n",
    "\n",
    "関数の中で、if文による条件分岐を使っています。"
   ]
  },
  {
   "cell_type": "code",
   "execution_count": null,
   "metadata": {},
   "outputs": [],
   "source": [
    "#自作関数の作成  def\n",
    "#条件分岐  if\n",
    "\n",
    "#ディクショナリ\n",
    "Price = { \"Kids\":None, \"Short\":2.45, \"Medium\":2.85, \"Tall\":3.25, \"Grand\":3.65 }\n",
    "\n",
    "#関数を定義\n",
    "def get_price( c ) :               #自作関数 get_price() を作成\n",
    "    if c == \"Kids\" :                 #もし与えられた値が\"Kids\"なら\n",
    "        return(\"sorry\")                 # \"sorry\"を帰す\n",
    "    else :                           #それ以外の場合\n",
    "        return( Price[ c ] )          #  ディクショナリから値を取得\n",
    "\n",
    "#関数の呼び出し\n",
    "print( get_price( \"Short\" ) )"
   ]
  },
  {
   "cell_type": "markdown",
   "metadata": {},
   "source": [
    "さきほどの関数を呼び出して繰り返し実行します。  \n",
    "繰り返し処理にはfor文を使います。"
   ]
  },
  {
   "cell_type": "code",
   "execution_count": null,
   "metadata": {},
   "outputs": [],
   "source": [
    "#繰り返し（ループ）\n",
    "\n",
    "order_list = [\"Medium\", \"Tall\",   \"Kids\",   \"Short\", \"Tall\", \"Kids\",\n",
    "              \"Kids\",   \"Medium\", \"Short\",  \"Tall\",  \"Kids\", \"Short\",\n",
    "              \"Medium\", \"Tall\",   \"Medium\", \"Short\", \"Tall\", \"Short\",\n",
    "              \"Short\",  \"Grand\" ]\n",
    "\n",
    "len(order_list)            #リストの要素の数\n",
    "order_price = []           #空のリスト\n",
    "\n",
    "for i in range( len(order_list) ) :   #0から(リストの要素数-1)まで繰り返し\n",
    "    order_price.append( get_price( order_list[i] ) )     #リストに値を追加\n",
    "    \n",
    "print( order_price )"
   ]
  },
  {
   "cell_type": "markdown",
   "metadata": {},
   "source": [
    "### クラスとメソッド\n",
    "\n",
    "クラスとは新しいオブジェクトをつくる際の「ひな型」です。  \n",
    ">ひな型をもとに作成されるオブジェクトをインスタンスと呼びます。  \n",
    "人間をクラスとすれば、Johnはインスタンスです。  \n",
    "\n",
    "クラスの定義の中で、メソッドと呼ばれる機能を記述します。  \n",
    ">メソッドは、そのクラスに属するオブジェクトだけが持つ機能です。  \n",
    "実行する際は \" オブジェクト名.メソッド名() \" のように記述します。"
   ]
  },
  {
   "cell_type": "code",
   "execution_count": null,
   "metadata": {},
   "outputs": [],
   "source": [
    "#クラスとメソッド\n",
    "\n",
    "#クラスの定義\n",
    "class Human:\n",
    "    #コンストラクタ　身長mと体重kgを受け取ってBMIを計算\n",
    "    #                インスタンスが作成されると実行される\n",
    "    def __init__(self, height, weight):\n",
    "        self.BMI = weight / (height**2)\n",
    "        \n",
    "    #メソッド value : BMIの値を四捨五入して少数2桁までの値を返す\n",
    "    def value(self):\n",
    "        return round(self.BMI, 2)  #self.BMIをコンストラクタから受けとる\n",
    "                                    #関数round()で四捨五入する\n",
    "        \n",
    "    #メソッド is_fat : 適正体重かどうかを診断してprint()で文字列を表示\n",
    "    def is_fat(self):\n",
    "        if self.BMI < 18.5 :       #self.BMIをコンストラクタから受けとる\n",
    "            print(\"Under\")         #self.BMIの値によって異なる文字列を表示\n",
    "        elif self.BMI >= 30 :\n",
    "            print(\"Over\")\n",
    "        else :\n",
    "            print(\"OK!\")\n",
    "\n",
    "#実行\n",
    "if __name__ == '__main__':\n",
    "    John = Human(1.80, 82)    #クラスHumanからインスタンスJohnを生成\n",
    "    Taro = Human(1.65, 88)    #　JohnもTaroもHumanである\n",
    "    \n",
    "    print( John.value() )     #メソッド.value()を実行\n",
    "    print( Taro.value() )     #  実行すると値だけが返ってくるのでprint()で表示\n",
    "    \n",
    "    print( \"\\n\" )\n",
    "    John.is_fat()             #メソッド.is_fat()を実行\n",
    "    Taro.is_fat()             #　.is_fat()の中でprint()が実行される"
   ]
  },
  {
   "cell_type": "code",
   "execution_count": null,
   "metadata": {},
   "outputs": [],
   "source": []
  }
 ],
 "metadata": {
  "anaconda-cloud": {},
  "kernelspec": {
   "display_name": "Python 3",
   "language": "python",
   "name": "python3"
  },
  "language_info": {
   "codemirror_mode": {
    "name": "ipython",
    "version": 3
   },
   "file_extension": ".py",
   "mimetype": "text/x-python",
   "name": "python",
   "nbconvert_exporter": "python",
   "pygments_lexer": "ipython3",
   "version": "3.7.0"
  }
 },
 "nbformat": 4,
 "nbformat_minor": 1
}
