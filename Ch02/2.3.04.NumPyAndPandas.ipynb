{
 "cells": [
  {
   "cell_type": "markdown",
   "metadata": {},
   "source": [
    "### NumPyとpandas\n",
    "\n",
    "1ブロックずつ実行してみましょう\n",
    "  \n",
    "#はコメントを表します"
   ]
  },
  {
   "cell_type": "markdown",
   "metadata": {},
   "source": [
    "### NumPy の利用\n",
    "\n",
    "NumPyを使うと、配列・行列の計算が可能となります。\n",
    "\n",
    "NumPyでは ndarray というデータ形式(numpy配列)を扱います。  \n",
    "これは、Rのベクトルや行列に相当します。\n",
    "\n",
    "1次元の配列を作る方法を以下に示します。"
   ]
  },
  {
   "cell_type": "code",
   "execution_count": null,
   "metadata": {},
   "outputs": [],
   "source": [
    "import numpy as np    #numpyをnpという名前で読み込む\n",
    "\n",
    "#numpy配列を作成（リストから変換）\n",
    "a = np.array([1, 2, 3])\n",
    "A = np.array([4, 5, 6])\n",
    "\n",
    "#Rのベクトルと同様に計算が可能\n",
    "print(\"a+A\", type(a+A), \" : \", a+A)   #要素どうしの足し算\n",
    "print(\"a*A\", type(a*A), \" : \", a*A)   #要素どうしの掛け算\n",
    "print(\"a*5\", type(a*5), \" : \", a*5)   #5を掛ける"
   ]
  },
  {
   "cell_type": "markdown",
   "metadata": {},
   "source": [
    "2次元の行列を作る方法を以下に示します。"
   ]
  },
  {
   "cell_type": "code",
   "execution_count": null,
   "metadata": {},
   "outputs": [],
   "source": [
    "#リストを2次元のnumpy配列（行列）に変換\n",
    "print(\"\\n\", np.array([[1,2,3], [4,5,6], [7,8,9]] ))  #行列を作成\n",
    "\n",
    "#.arange()でnumpy配列を作成\n",
    "Nums = np.arange(4, 63, 2, dtype=np.int32)  #4から62まで間隔2で作成\n",
    "print(\"\\narray:\\n\", Nums )\n",
    "\n",
    "Nums = np.insert(Nums, 0, 2)    #0番目に2を挿入\n",
    "Nums = np.append(Nums, 64)      #最後に64を追加\n",
    "print(\"array:\\n\",   Nums )\n",
    "\n",
    "Nums = np.reshape(Nums, (8, 4)) #8x4の行列に変換\n",
    "print(\"\\narray:\\n\", Nums )\n",
    "\n",
    "print(\"\\nshape: \",  Nums.shape )     #.shapeはnumpy配列が持つメソッド\n",
    "print(\"object type: \", type(Nums) )  #関数type()で型を表示"
   ]
  },
  {
   "cell_type": "markdown",
   "metadata": {},
   "source": [
    "添字を使って要素を参照できます。"
   ]
  },
  {
   "cell_type": "code",
   "execution_count": null,
   "metadata": {},
   "outputs": [],
   "source": [
    "print( Nums[2] )      #row 2（2次元の場合は行が1つの要素）\n",
    "print( Nums[2:4] )    #row 2 と 3\n",
    "print( Nums[1][2] )   #row 1, column 2（1番目の中の2番目）\n",
    "print( Nums[1, 2] )   #row 2, column 1（カンマで区切る方法）\n",
    "print( Nums[:, 2] )   #全てのrow, column 2\n",
    "print( Nums[2, :] )   #row 2, 全てのcolumns"
   ]
  },
  {
   "cell_type": "markdown",
   "metadata": {},
   "source": [
    "### pandas の利用\n",
    "\n",
    "pandasを使うと、データフレームの利用が可能となります。  \n",
    "Rのデータフレームとほぼ同じと考えてよいでしょう。\n",
    "\n",
    "データフレームを作る方法を以下に示します。"
   ]
  },
  {
   "cell_type": "code",
   "execution_count": null,
   "metadata": {},
   "outputs": [],
   "source": [
    "import pandas as pd    #pandasをpdという名前で読み込む\n",
    "from numpy import nan  #numpyの欠損値機能を使う\n",
    "\n",
    "#データフレームの作成\n",
    "DFSize = pd.DataFrame({\"cup\"   : [\"Kids\", \"Short\", \"Medium\", \"Tall\", \"Grand\"], \n",
    "                       \"fl.oz\" : [7, 10, 14, 18, 24],\n",
    "                       \"USD\"   : [nan, 2.45, 2.85, 3.25, 3.65]} )\n",
    "#列の参照\n",
    "print( DFSize['cup'] ) \n",
    "\n",
    "#データフレームの列どうしの演算\n",
    "DFSize['UnitPrice'] = DFSize['USD'] / DFSize['fl.oz'] \n",
    "\n",
    "print( \"\\nobject type:\\n\", type(DFSize) )  #型を表示\n",
    "display( DFSize )                          #データフレームを表示"
   ]
  },
  {
   "cell_type": "markdown",
   "metadata": {},
   "source": [
    "添字を使って要素を参照できます。  \n",
    "数字による参照では、.iloc を使います。"
   ]
  },
  {
   "cell_type": "code",
   "execution_count": null,
   "metadata": {},
   "outputs": [],
   "source": [
    "#添え字での参照（.ilocを使う）\n",
    "print( \"\\n\", DFSize.iloc[1, 2] )     #row 1, column 2\n",
    "print( \"\\n\", DFSize.iloc[0:2, :] )   #row 0:2, 全てのcolumn\n",
    "print( \"\\n\", DFSize.iloc[:, 2] )     #全てのrow、column 2"
   ]
  },
  {
   "cell_type": "markdown",
   "metadata": {},
   "source": [
    "以下では、条件に該当する行を抽出しています。"
   ]
  },
  {
   "cell_type": "code",
   "execution_count": null,
   "metadata": {},
   "outputs": [],
   "source": [
    "#条件式での抽出\n",
    "print( \"\\n\", DFSize[DFSize.cup == \"Tall\"] ) #Cupが\"Tall\"のものを抽出\n",
    "print( \"\\n\", DFSize[DFSize.USD <= 3.0] )    #価格が3.0以下のものを抽出"
   ]
  }
 ],
 "metadata": {
  "anaconda-cloud": {},
  "kernelspec": {
   "display_name": "Python 3",
   "language": "python",
   "name": "python3"
  },
  "language_info": {
   "codemirror_mode": {
    "name": "ipython",
    "version": 3
   },
   "file_extension": ".py",
   "mimetype": "text/x-python",
   "name": "python",
   "nbconvert_exporter": "python",
   "pygments_lexer": "ipython3",
   "version": "3.7.0"
  }
 },
 "nbformat": 4,
 "nbformat_minor": 1
}
