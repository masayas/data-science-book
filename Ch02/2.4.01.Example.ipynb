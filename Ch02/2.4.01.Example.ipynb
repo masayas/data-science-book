{
 "cells": [
  {
   "cell_type": "code",
   "execution_count": null,
   "metadata": {},
   "outputs": [],
   "source": [
    "#グラフィックの設定\n",
    "%matplotlib inline\n",
    "\n",
    "#ライブラリを読み込む\n",
    "import pandas as pd               #データフレーム\n",
    "import matplotlib.pyplot as plt   #グラフィック"
   ]
  },
  {
   "cell_type": "code",
   "execution_count": null,
   "metadata": {},
   "outputs": [],
   "source": [
    "#ファイルsample.csvを読み込みデータフレームDFに格納\n",
    "#read_csvはpandasの機能\n",
    "#ヘッダーは自動で認識される\n",
    "DF = pd.read_csv(\"sample.csv\", sep=\",\")  #カンマ区切り\n",
    "\n",
    "#最初の6行を表示\n",
    "#headはデータフレームに付随する機能\n",
    "display(DF.head(6))"
   ]
  },
  {
   "cell_type": "code",
   "execution_count": null,
   "metadata": {
    "scrolled": false
   },
   "outputs": [],
   "source": [
    "#データ型\n",
    "print(type(DF))\n",
    "#データの構造（行数・列数）\n",
    "#shapeはnumpy配列やデータフレームに付随する機能\n",
    "print(DF.shape)"
   ]
  },
  {
   "cell_type": "code",
   "execution_count": null,
   "metadata": {
    "scrolled": true
   },
   "outputs": [],
   "source": [
    "#要約統計量の確認\n",
    "#describe()はデータフレームに付随する機能\n",
    "display(DF.describe())"
   ]
  },
  {
   "cell_type": "code",
   "execution_count": null,
   "metadata": {
    "scrolled": true
   },
   "outputs": [],
   "source": [
    "#原点に近いデータを識別する列を作る\n",
    "id = DF['varA']**2 + DF['varB']**2 < 1\n",
    "print(id.head(6))"
   ]
  },
  {
   "cell_type": "code",
   "execution_count": null,
   "metadata": {},
   "outputs": [],
   "source": [
    "#IDという名前で新しい列を作る\n",
    "#値には全て\"steelblue\"を入れておく\n",
    "DF[\"ID\"] = \"steelblue\"\n",
    "\n",
    "#原点に近いデータのみIDの値を\"darkblue\"とする\n",
    "#locはデータフレームに付随する機能（行・列の指定）\n",
    "DF.loc[id==True, \"ID\"] = \"darkblue\" \n",
    "\n",
    "#それぞれのデータがいくつあるかを確認\n",
    "#value_counts()はデータフレームに付随する機能\n",
    "DF[\"ID\"].value_counts()"
   ]
  },
  {
   "cell_type": "code",
   "execution_count": null,
   "metadata": {
    "scrolled": true
   },
   "outputs": [],
   "source": [
    "#データフレームの内容を確認\n",
    "display(DF.head(6))\n",
    "\n",
    "#散布図を色分けして表示\n",
    "#cは色の指定、alphaは透明度、sは点の大きさ\n",
    "plt.scatter(DF[\"varA\"], DF[\"varB\"],\n",
    "            c=DF[\"ID\"], alpha=0.6, s=70)\n",
    "plt.show"
   ]
  },
  {
   "cell_type": "code",
   "execution_count": null,
   "metadata": {},
   "outputs": [],
   "source": []
  }
 ],
 "metadata": {
  "kernelspec": {
   "display_name": "Python 3",
   "language": "python",
   "name": "python3"
  },
  "language_info": {
   "codemirror_mode": {
    "name": "ipython",
    "version": 3
   },
   "file_extension": ".py",
   "mimetype": "text/x-python",
   "name": "python",
   "nbconvert_exporter": "python",
   "pygments_lexer": "ipython3",
   "version": "3.7.0"
  }
 },
 "nbformat": 4,
 "nbformat_minor": 2
}
