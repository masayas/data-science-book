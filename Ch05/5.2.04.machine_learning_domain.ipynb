{
 "cells": [
  {
   "cell_type": "markdown",
   "metadata": {},
   "source": [
    "# 機械学習の実行【ドメイン知識活用】"
   ]
  },
  {
   "cell_type": "markdown",
   "metadata": {},
   "source": [
    "## <span style=\"color:red\">はじめに</span>\n",
    "<span style=\"color:red\">\n",
    "    ここでは、ドメイン知識（業界、商品、業務などに関して予め持っている知識）を利用することでモデルが改善できないかを試します。<br>\n",
    "    ソースコードの大半は通常の機械学習と変わらないので、【変更あり】の箇所を中心に差分を確認してください。\n",
    "</span>"
   ]
  },
  {
   "cell_type": "markdown",
   "metadata": {},
   "source": [
    "-----------------\n",
    "## ①各種ライブラリの読み込み"
   ]
  },
  {
   "cell_type": "markdown",
   "metadata": {},
   "source": [
    "### ①－１：必要なライブラリの読み込み\n",
    "以下のライブラリが必要となるため、順に読み込みます。<br>\n",
    "ソースコード内で何回も記述することになるものは、別名をasでつけると良いでしょう。<br>\n",
    "pandasはpd, numpyはnpと別名をつけるのが一般的です。\n",
    "<ul>\n",
    "    <li>データ整形　・・・ numpy、　pandas </li>\n",
    "    <li>可視化 ・・・ matplotlib.pyplot </li>\n",
    "    <li>機械学習アルゴリズム ・・・　sklearn.ensemble.RandomForestClassifier, sklearn.svm.SVC </li>\n",
    "    <li>機械学習の結果評価 ・・・ sklearn.metrics.accuracy_score, sklearn.metrics.confusion_matrix  </li>\n",
    "    <li>モデルの保存/読み込み　・・・ pickle\n",
    "</ul>"
   ]
  },
  {
   "cell_type": "code",
   "execution_count": 1,
   "metadata": {
    "collapsed": true
   },
   "outputs": [],
   "source": [
    "#---------------------------------------\n",
    "#  各種ライブラリの読み込み①\n",
    "#---------------------------------------\n",
    "import numpy as np\n",
    "import pandas as pd\n",
    "import matplotlib.pyplot as plt\n",
    "\n",
    "from sklearn.ensemble import RandomForestClassifier\n",
    "from sklearn.svm import SVC\n",
    "from sklearn.metrics import accuracy_score,confusion_matrix\n",
    "\n",
    "import pickle"
   ]
  },
  {
   "cell_type": "markdown",
   "metadata": {},
   "source": [
    "### ①－２：乱数シードの指定\n",
    "再現性のある分析とするために、numpyの乱数シードを固定しておきます。"
   ]
  },
  {
   "cell_type": "code",
   "execution_count": 2,
   "metadata": {
    "collapsed": true
   },
   "outputs": [],
   "source": [
    "np.random.seed(123) # 乱数を使う場合、再現性を保つためSEEDを指定"
   ]
  },
  {
   "cell_type": "markdown",
   "metadata": {},
   "source": [
    "----------\n",
    "## ②データの取り込み、データ分割"
   ]
  },
  {
   "cell_type": "markdown",
   "metadata": {},
   "source": [
    "### <span style=\"color:red\">【変更あり】</span>②－１：データの取り込み\n",
    "文字列を含む項目があるため、pandasを使いデータを取り込みます。<br>\n",
    "csv形式のデータなので、read_csvを使って取り込みましょう。<br>\n",
    "<span style=\"color:red\">この際、ドメイン知識を活用して、速度の二乗を計算し、'car_velocity_squared'という列を追加しています。</span>"
   ]
  },
  {
   "cell_type": "code",
   "execution_count": 3,
   "metadata": {
    "collapsed": true
   },
   "outputs": [],
   "source": [
    "#---------------------------------------\n",
    "#  データの取り込み、データ分割②\n",
    "#---------------------------------------\n",
    "df = pd.read_csv(\"car_braking.csv\")\n",
    "df['car_velocity_squared'] = df['car_velocity']**2 # 【変更あり】車速の二乗"
   ]
  },
  {
   "cell_type": "markdown",
   "metadata": {},
   "source": [
    "### ②－２：データの分割\n",
    "scikit-learnが提供するtrain_test_split関数でも良いですが、ここではnumpyを活用した例を紹介します。<br>\n",
    "データを学習、検証、評価に６対２対２の比率で分割します。<br>\n",
    "そのためにまず全体のレコード数をlen(df)で求め、そこに各データの比率を掛けて、それぞれのデータ件数を求めます。<br>\n",
    "intで囲っているのは、レコード件数を整数にするためです。これをキャスティングといいます。<br>\n",
    "np.random.permutationを使って作られたperm_idxはランダムに並び替えられたインデックス値になります。<br>\n",
    "perm_idxを前から順に6割、2割、2割とデータを取得すると、無作為抽出（ランダムサンプリング）されたデータセットができます。"
   ]
  },
  {
   "cell_type": "code",
   "execution_count": 4,
   "metadata": {
    "collapsed": true
   },
   "outputs": [],
   "source": [
    "train_num = int( len(df) * 0.6 ) # 6割を学習データ\n",
    "val_num = int( len(df) * 0.2 )   # 2割を検証データ\n",
    "\n",
    "perm_idx = np.random.permutation( len(df) ) # ランダムなインデックス\n",
    "# perm_idxの先頭から6割までを学習用インデックスにする\n",
    "train_idx = perm_idx[ : train_num ]\n",
    "# perm_idxの先頭6割から8割までを検証用のインデックスにする\n",
    "val_idx = perm_idx[ train_num : (train_num + val_num) ]\n",
    "# perm_idxの先頭8割以降をテスト用のインデックスにする\n",
    "test_idx = perm_idx[ (train_num + val_num) : ]\n",
    "\n",
    "train_df = df.iloc[ train_idx, : ] # 学習用インデックス値で行抽出\n",
    "val_df = df.iloc[ val_idx, : ]     # 検証用インデックス値で行抽出\n",
    "test_df = df.iloc[ test_idx, : ]   # テスト用インデックスで行抽出"
   ]
  },
  {
   "cell_type": "markdown",
   "metadata": {
    "collapsed": true
   },
   "source": [
    "--------\n",
    "## ③教師ラベルの加工\n",
    "ここでは分類問題を考えますが、データにはブレーキを踏む・踏まないという教師ラベルがありません。<br>\n",
    "停止距離(measured_braking_distance)がデータ上にあるので、この値と前方物体までの距離を比較して教師ラベルを作ります。<br>\n",
    "ブレーキを踏む場合は１、踏まない場合は０とします。<br>\n",
    "1サンプルにつき物体までの距離を5パターン用意します。<br>"
   ]
  },
  {
   "cell_type": "markdown",
   "metadata": {},
   "source": [
    "### <span style=\"color:red\">【変更あり】</span>③－１：教師ラベル作成用の関数作成\n",
    "データを格納するための空のデータフレーム(container_df)を作ります。<br>\n",
    "pd.DataFrameでデータフレームを呼び出し、その後ろにdictionary形式で変数名と空のリストを与えます。<br>\n",
    "{　変数名1:[], 変数名2:[] }といった具合です。<br>\n",
    "<span style=\"color:red\">ドメイン知識を使い'car_velocity_squared'を作ったので、空のデータフレームにも項目を追加します。</span><br><br>\n",
    "\n",
    "次に、説明変数として使う項目をリスト形式でデータフレームに与えます。<br>\n",
    "このデータフレームをtemp_dfとします。<br><br>\n",
    "続いて、物体までの距離の生成するためにnp.random.uniformを使い一様分布の乱数を生成します。<br>\n",
    "この乱数を使い、停止距離の50%から150%の範囲で物体まで距離を生成します。<br><br>\n",
    "停止距離と物体までの距離の大小関係から教師ラベルを作ります。<br>\n",
    "物体までの距離（distance_to_object）と教師ラベル(hit_brake)をtemp_dfのデータフレームに追加します。<br><br>\n",
    "container_dfにtemp_dfを追加します。<br><br>\n",
    "この一連の処理を引数に与えているsamplesの回数だけ繰り返します。<br>"
   ]
  },
  {
   "cell_type": "code",
   "execution_count": 5,
   "metadata": {
    "collapsed": true
   },
   "outputs": [],
   "source": [
    "#---------------------------------------\n",
    "#  教師ラベルの加工③\n",
    "#---------------------------------------\n",
    "# ここでは分類問題として考える。\n",
    "# 車重、車速、タイヤ幅、路面、物体までの距離を与えたときに、\n",
    "# ブレーキを踏む必要があるかを判定するロジックを作る。\n",
    "# 教師ラベルはブレーキを踏む場合１、踏まない場合は０とする。\n",
    "# 0と１の教師ラベルを停止距離(measured_braking_distance)と\n",
    "# 乱数生成で作った物体までの距離で作る\n",
    "# 1サンプルにつき、物体までの距離が異なるサンプルを5個作る\n",
    "# 停止距離<=物体までの距離のときブレーキを踏むとする。\n",
    "\n",
    "def create_label( samples, input_df ):\n",
    "    # samplesは、１計測結果につき作るサンプル数。この例では5。\n",
    "    # input_dfは、入力するデータフレーム\n",
    "    \n",
    "    # 空のデータフレームのコンテナを作成。ここにデータを足していく。\n",
    "    container_df = pd.DataFrame( {'car_weight'         : [], # 車重\n",
    "                                  'car_velocity'       : [], # 車速\n",
    "                                  'car_velocity_squared':[], # 【変更あり】車速の二乗\n",
    "                                  'tire_width'         : [], # タイヤ幅\n",
    "                                  'road_type'          : [], # 路面\n",
    "                                  'distance_to_object' : [], # 物体までの距離\n",
    "                                  'hit_brake'          : []} ) # ブレーキ要否\n",
    "    for i in range(samples):\n",
    "        temp_df = input_df[ ['car_weight', 'car_velocity', 'car_velocity_squared', \\\n",
    "                            'tire_width', 'road_type'] ] #列指定\n",
    "        # 停止距離の50%～150%でサンプルを作る。\n",
    "        # numpyのuniform関数で一様分布の乱数を生成して、停止距離に掛ける。\n",
    "        random_distance = input_df['measured_braking_distance'] \\\n",
    "                          * np.random.uniform( 0.5, 1.5, len(input_df) )\n",
    "        # 停止距離がランダムな距離以下の時１、そうでない場合は0とする。\n",
    "        # これを教師ラベルとする。\n",
    "        # リストにif-else処理をして、別のリストを作る方法\n",
    "        # [TRUE時の処理 if 条件 else FALSE時の処理 for文]\n",
    "        labels = [ 1. if \\\n",
    "                        (input_df['measured_braking_distance']).iloc[j] \\\n",
    "                        <= random_distance.iloc[j] \\\n",
    "                      else \\\n",
    "                        0. \\\n",
    "                      for j in range( len(input_df) ) ]\n",
    "        # ランダムな距離をデータフレームに格納\n",
    "        temp_df['distance_to_object'] = random_distance\n",
    "        # ラベルをデータフレームに格納\n",
    "        temp_df['hit_brake'] = labels\n",
    "        # データをコンテナのデータフレームに追加\n",
    "        container_df = pd.concat([container_df, temp_df])\n",
    "    return container_df"
   ]
  },
  {
   "cell_type": "markdown",
   "metadata": {},
   "source": [
    "### ③－２：学習、検証、評価データに教師ラベル作成用の関数を適用\n",
    "教師ラベル作成用の関数を各データセットに適用します。<br>\n",
    "1サンプルにつき物体までの距離を5パターン用意するので、一つ目の引数を5にしています。<br>\n",
    "こうして作られるtrain_df2, val_df2, test_df2は説明変数と目的変数（教師ラベル）の両方を含んでいるため、目的変数を別変数として取り出しておきます。<br>\n",
    "なお、命名する際は説明変数となるものにxを、目的変数となるものにｙをつけるのが慣例です。"
   ]
  },
  {
   "cell_type": "code",
   "execution_count": 6,
   "metadata": {
    "collapsed": true
   },
   "outputs": [],
   "source": [
    "# 学習、検証、テストデータの各サンプルについて5個教師ラベルを作る\n",
    "train_df2 = create_label(5, train_df)\n",
    "val_df2 = create_label(5, val_df)\n",
    "test_df2 = create_label(5, test_df)\n",
    "\n",
    "train_y = np.array(train_df2['hit_brake'])\n",
    "val_y = np.array(val_df2['hit_brake'])\n",
    "test_y = np.array(test_df2['hit_brake'])"
   ]
  },
  {
   "cell_type": "markdown",
   "metadata": {},
   "source": [
    "-----------------\n",
    "## ④カテゴリ変数をダミー変数に変換\n",
    "\n",
    "カテゴリ変数とは、通常の変数とは違い連続値ではなく離散値の説明変数です。<br>\n",
    "この例のように文字列だけでなく、数値もカテゴリ変数になりえます。<br>\n",
    "例えば、店舗コードなどは数字で記録されますが、数値の大小関係に意味はないためカテゴリ変数として扱うのが適切です。<br>\n",
    "こういった説明変数を扱う際は、ダミー変数化をします。<br>\n",
    "ダミー変数化すると、元々の説明変数を除外し、代わりに説明変数のユニーク値が項目になります。<br>\n",
    "路面状態のユニーク値は３つあるため、ダミー変数を２つ用意すれば元データと同じ情報となります。<br>\n",
    "※3つ目のユニーク値については、1つ目か2つ目かの情報があれば消去法で判断できるため不要\n",
    "\n",
    "●元データ\n",
    "\n",
    "|road_type|\n",
    "|---|\n",
    "|snow_road| \n",
    "|tarmac_dry|\n",
    "|snow_road| \n",
    "|tarmac_wet|\n",
    "|...| \n",
    "<br>\n",
    "\n",
    "●ダミー変数化後\n",
    "\n",
    "|snow_road|tarmac_dry|\n",
    "|---|\n",
    "|1|0| \n",
    "|0|1|\n",
    "|1|0|\n",
    "|0|0|\n",
    "|...|...| \n"
   ]
  },
  {
   "cell_type": "markdown",
   "metadata": {},
   "source": [
    "### ④－１：ユニーク値の確認\n",
    "ユニーク値の件数（同一の値の重複を取り除いた状態での件数）を確認します。<br>\n",
    "np.unique()を使うことで重複を取り除き、ユニーク値を得ることができます。<br>"
   ]
  },
  {
   "cell_type": "code",
   "execution_count": 7,
   "metadata": {},
   "outputs": [
    {
     "name": "stdout",
     "output_type": "stream",
     "text": [
      "-unique road type------------------\n",
      "['snow_road' 'tarmac_dry' 'tarmac_wet']\n"
     ]
    }
   ],
   "source": [
    "#---------------------------------------\n",
    "#  カテゴリ変数をダミー変数に変換④\n",
    "#---------------------------------------\n",
    "# カテゴリ変数であるroad_type変数のユニーク値を調べる\n",
    "unique_road_type = np.unique(df['road_type'])\n",
    "print (\"-unique road type------------------\")\n",
    "print(unique_road_type)"
   ]
  },
  {
   "cell_type": "markdown",
   "metadata": {},
   "source": [
    "### ④－２：空のダミー変数の作成\n",
    "ダミー変数はユニーク値が多くない場合は、ユニーク値－1です。<br>\n",
    "ダミー変数の行数は元々のデータと同じなので、len()を使って件数を取得します。<br>\n",
    "np.zerosですべての値が0の行列を作ります。<br>"
   ]
  },
  {
   "cell_type": "code",
   "execution_count": 8,
   "metadata": {
    "collapsed": true
   },
   "outputs": [],
   "source": [
    "# ダミー変数の数はダミー変数は（ユニーク値の数）-1になる。\n",
    "# ユニーク値が多い場合は、「その他」にまとめるなどの工夫が必要だが、\n",
    "# 今回は少ないためそのような対応は不要\n",
    "dummy_cat_num = len(unique_road_type)-1 #ダミー変数の数\n",
    "# 空のダミー変数を作成。この後のダミー変数化の処理で値を入れていく。\n",
    "# np.zeros()はからの行列を作る。引数に行列の大きさを与える。\n",
    "# 行数は学習、検証、テストデータの行数、列は（ユニーク値の数）-1\n",
    "train_dummy_vars = np.zeros( (len(train_df2), dummy_cat_num) )\n",
    "val_dummy_vars = np.zeros( (len(val_df2), dummy_cat_num) )\n",
    "test_dummy_vars = np.zeros( (len(test_df2), dummy_cat_num) )"
   ]
  },
  {
   "cell_type": "markdown",
   "metadata": {},
   "source": [
    "### ④－３：ダミー変数化\n",
    "ダミー変数毎に以下の処理をします。<br>\n",
    "元のデータの路面状態(road_type)を確認して、値が０か１かを判断して④－２で作ったからのダミー変数に反映させます。"
   ]
  },
  {
   "cell_type": "code",
   "execution_count": 9,
   "metadata": {},
   "outputs": [],
   "source": [
    "# ダミー変数化\n",
    "for i in range(dummy_cat_num): # ダミー変数の数だけループ\n",
    "    this_road_type = unique_road_type[i] # ダミー変数化する路面を選択\n",
    "    # 学習、検証、テストデータ上の路面が、今ダミー変数化したい路面だった場合に１、\n",
    "    # そうでない場合に0にする。\n",
    "    train_dummy_vars[:, i] = [ 1. if road_type == this_road_type else 0.\\\n",
    "                    for road_type in train_df2['road_type'] ] \n",
    "    val_dummy_vars[:, i] = [ 1. if road_type == this_road_type else 0. \\\n",
    "                  for road_type in val_df2['road_type']] \n",
    "    test_dummy_vars[:, i] = [ 1. if road_type == this_road_type else 0. \\\n",
    "                   for road_type in test_df2['road_type'] ] "
   ]
  },
  {
   "cell_type": "markdown",
   "metadata": {},
   "source": [
    "-----------------\n",
    "## ⑤標準化\n",
    "標準化とは、説明変数の平均を０にして、標準偏差を１にする処理です。<br>\n",
    "機械学習のアルゴリズムの中には、説明変数毎にとる値の範囲が違いすぎると、学習が上手くいかないものがあります。<br>\n",
    "このため、どの説明変数を見ても平均が０で標準偏差が１になるようにするのが良いとされます。<br>"
   ]
  },
  {
   "cell_type": "markdown",
   "metadata": {},
   "source": [
    "### <span style=\"color:red\">【変更あり】</span>⑤－１：平均と標準偏差の算出と保存\n",
    "モデルを使うのに必要な説明変数のうち連続値であるものを取得します。<br>\n",
    "<span style=\"color:red\">ドメイン知識からブレーキ要否に関係するのは車速の二乗と物体までの距離だと分かっています。<br>\n",
    "そこで車重、車速、タイヤ幅の列は除外し、車速の二乗と物体までの距離のみ選びます。</span><br>\n",
    "学習データで、これら説明変数の平均と標準偏差を算出します。<br>\n",
    "ここで求めた平均と標準偏差は後々必要なため、np.saveを使って保存しておきます。"
   ]
  },
  {
   "cell_type": "code",
   "execution_count": 10,
   "metadata": {
    "collapsed": true
   },
   "outputs": [],
   "source": [
    "train_x = np.array(train_df2[ ['car_velocity_squared', 'distance_to_object'] ]) # 【変更あり】連続値取得\n",
    "mean_x = np.mean(train_x, axis = 0)\n",
    "std_x = np.std(train_x, axis = 0)\n",
    "np.save('mean_x_fe.npy', mean_x) # 平均値の保存\n",
    "np.save('std_x_fe.npy', std_x)   # 標準偏差の保存"
   ]
  },
  {
   "cell_type": "markdown",
   "metadata": {},
   "source": [
    "### <span style=\"color:red\">【変更あり】</span>⑤－２：標準化処理\n",
    "学習、検証、テストデータのそれぞれから⑤－１で求めた平均を引き、⑤－１で求めた標準偏差で割ります。<br>\n",
    "<span style=\"color:red\">学習データと同様、検証、テストデータも車速の二乗と物体までの距離に絞ってっ処理します。</span>"
   ]
  },
  {
   "cell_type": "code",
   "execution_count": 11,
   "metadata": {
    "collapsed": true
   },
   "outputs": [],
   "source": [
    "train_x -= mean_x #平均0\n",
    "train_x /= std_x  #標準偏差1\n",
    "train_x = np.hstack([train_x, train_dummy_vars]) # 連続値とダミー変数のマージ\n",
    "\n",
    "val_x = np.array(val_df2[ ['car_velocity_squared', 'distance_to_object'] ]) # 【変更あり】連続値取得\n",
    "val_x -= mean_x # 平均0\n",
    "val_x /= std_x  # 標準偏差1\n",
    "val_x = np.hstack([val_x, val_dummy_vars]) # 連続値とダミー変数のマージ\n",
    "\n",
    "test_x = np.array(test_df2[ ['car_velocity_squared', 'distance_to_object'] ]) # 【変更あり】連続値取得\n",
    "test_x -= mean_x # 平均0\n",
    "test_x /= std_x  # 標準偏差1\n",
    "test_x = np.hstack([test_x, test_dummy_vars]) # 連続値とダミー変数のマージ"
   ]
  },
  {
   "cell_type": "markdown",
   "metadata": {},
   "source": [
    "-----------------\n",
    "##  ⑥チューニングと検証データを用いた評価\n",
    "SVMとランダムフォレストのそれぞれについて、ハイパーパラメータを変更しながら学習データに適合させてモデルを作っていきます。<br>\n",
    "作ったモデルの性能を評価し、今までで一番よいモデルであればそのハイパーパラメータとモデルを保存します。<br><br>\n",
    "\n",
    "最適なハイパーパラメータを見つけるためにグリッドサーチを行います。<br>\n",
    "グリッドサーチを行う場合、まずはハイパーパラメータの候補値をリストでつくります。<br>\n",
    "これらハイパーパラーメータの候補値リストをループさせて、全組み合わせについてモデルの作成、適合処理、検証を行います。<br><br>\n",
    "\n",
    "モデルを作成するには、冒頭で読み込んだSVC()やRandomForetClassifier()を使います。<br>\n",
    "それぞれのモデルからfitメソッドを呼び出して、学習データを与えて適合させます。<br><br>\n",
    "\n",
    "適合させた結果、いいモデルができたかを検証データを用いて確認します。<br>\n",
    "モデルからpredict()メソッドを呼び出し、検証データを与えて予測します、<br>\n",
    "accuracy_score()で正解率を確認し、今までで一番よいモデルのコピーをとっておきます。<br>\n",
    "※サンプルソースコードでは学習データでも予測と評価をしていますが、これは稀に学習データでも正解率が著しく低いことがあるためです。<br>\n",
    "※学習データの段階で精度が得られない場合、検証データの精度を評価する意味がありません。<br>"
   ]
  },
  {
   "cell_type": "markdown",
   "metadata": {},
   "source": [
    "### ⑥－１：SVMのチューニング\n",
    "ハイパーパラメータであるC（誤分類コスト）とgamma（境界線の複雑さ）を変化させ、検証データでの精度を評価しながら最適なモデルを探します。"
   ]
  },
  {
   "cell_type": "code",
   "execution_count": 12,
   "metadata": {},
   "outputs": [
    {
     "name": "stdout",
     "output_type": "stream",
     "text": [
      "-Tuning------------------\n",
      "SVC rbf\n",
      "c:10000.0\tgamma:auto\ttrain_acc:0.896\tval_acc:0.872\n",
      "c:10000.0\tgamma:0.001\ttrain_acc:0.813\tval_acc:0.806\n",
      "c:10000.0\tgamma:0.01\ttrain_acc:0.857\tval_acc:0.846\n",
      "c:10000.0\tgamma:0.1\ttrain_acc:0.882\tval_acc:0.865\n",
      "c:10000.0\tgamma:1.0\ttrain_acc:0.901\tval_acc:0.871\n",
      "c:10000.0\tgamma:10.0\ttrain_acc:0.917\tval_acc:0.864\n",
      "c:10000.0\tgamma:100.0\ttrain_acc:0.955\tval_acc:0.852\n",
      "c:1000.0\tgamma:auto\ttrain_acc:0.886\tval_acc:0.865\n",
      "c:1000.0\tgamma:0.001\ttrain_acc:0.788\tval_acc:0.786\n",
      "c:1000.0\tgamma:0.01\ttrain_acc:0.844\tval_acc:0.840\n",
      "c:1000.0\tgamma:0.1\ttrain_acc:0.878\tval_acc:0.862\n",
      "c:1000.0\tgamma:1.0\ttrain_acc:0.902\tval_acc:0.881\n",
      "c:1000.0\tgamma:10.0\ttrain_acc:0.908\tval_acc:0.865\n",
      "c:1000.0\tgamma:100.0\ttrain_acc:0.948\tval_acc:0.851\n",
      "c:100.0\tgamma:auto\ttrain_acc:0.877\tval_acc:0.858\n",
      "c:100.0\tgamma:0.001\ttrain_acc:0.746\tval_acc:0.738\n",
      "c:100.0\tgamma:0.01\ttrain_acc:0.816\tval_acc:0.810\n",
      "c:100.0\tgamma:0.1\ttrain_acc:0.867\tval_acc:0.848\n",
      "c:100.0\tgamma:1.0\ttrain_acc:0.888\tval_acc:0.866\n",
      "c:100.0\tgamma:10.0\ttrain_acc:0.901\tval_acc:0.867\n",
      "c:100.0\tgamma:100.0\ttrain_acc:0.934\tval_acc:0.854\n",
      "c:10.0\tgamma:auto\ttrain_acc:0.858\tval_acc:0.843\n",
      "c:10.0\tgamma:0.001\ttrain_acc:0.710\tval_acc:0.709\n",
      "c:10.0\tgamma:0.01\ttrain_acc:0.788\tval_acc:0.786\n",
      "c:10.0\tgamma:0.1\ttrain_acc:0.854\tval_acc:0.847\n",
      "c:10.0\tgamma:1.0\ttrain_acc:0.872\tval_acc:0.855\n",
      "c:10.0\tgamma:10.0\ttrain_acc:0.889\tval_acc:0.856\n",
      "c:10.0\tgamma:100.0\ttrain_acc:0.912\tval_acc:0.860\n",
      "c:1.0\tgamma:auto\ttrain_acc:0.832\tval_acc:0.831\n",
      "c:1.0\tgamma:0.001\ttrain_acc:0.585\tval_acc:0.612\n",
      "c:1.0\tgamma:0.01\ttrain_acc:0.734\tval_acc:0.730\n",
      "c:1.0\tgamma:0.1\ttrain_acc:0.803\tval_acc:0.799\n",
      "c:1.0\tgamma:1.0\ttrain_acc:0.839\tval_acc:0.828\n",
      "c:1.0\tgamma:10.0\ttrain_acc:0.865\tval_acc:0.842\n",
      "c:1.0\tgamma:100.0\ttrain_acc:0.893\tval_acc:0.853\n",
      "c:0.1\tgamma:auto\ttrain_acc:0.773\tval_acc:0.774\n",
      "c:0.1\tgamma:0.001\ttrain_acc:0.511\tval_acc:0.496\n",
      "c:0.1\tgamma:0.01\ttrain_acc:0.584\tval_acc:0.613\n",
      "c:0.1\tgamma:0.1\ttrain_acc:0.757\tval_acc:0.754\n",
      "c:0.1\tgamma:1.0\ttrain_acc:0.807\tval_acc:0.808\n",
      "c:0.1\tgamma:10.0\ttrain_acc:0.829\tval_acc:0.828\n",
      "c:0.1\tgamma:100.0\ttrain_acc:0.858\tval_acc:0.821\n",
      "c:0.01\tgamma:auto\ttrain_acc:0.686\tval_acc:0.702\n",
      "c:0.01\tgamma:0.001\ttrain_acc:0.511\tval_acc:0.496\n",
      "c:0.01\tgamma:0.01\ttrain_acc:0.511\tval_acc:0.496\n",
      "c:0.01\tgamma:0.1\ttrain_acc:0.593\tval_acc:0.614\n",
      "c:0.01\tgamma:1.0\ttrain_acc:0.714\tval_acc:0.694\n",
      "c:0.01\tgamma:10.0\ttrain_acc:0.632\tval_acc:0.600\n",
      "c:0.01\tgamma:100.0\ttrain_acc:0.511\tval_acc:0.496\n"
     ]
    }
   ],
   "source": [
    "print (\"-Tuning------------------\")\n",
    "best_val_acc_rf = 0.\n",
    "best_val_acc_svm = 0.\n",
    "\n",
    "# rbf SVC\n",
    "print(\"SVC rbf\") # SVMのチューニング\n",
    "for c in [ 10000., 1000., 100., 10., 1., 0.1, 0.01]: # ハイパーパラメータ\n",
    "    for g in ['auto', 0.001, 0.01, 0.1, 1., 10., 100. ]: # ハイパーパラメータ\n",
    "        # ハイパーパラメータの組み合わせ毎にモデルを用意    \n",
    "        clf = SVC(kernel = 'rbf', C = c, gamma = g, probability = True, random_state = 0)\n",
    "        clf.fit(train_x, train_y) # フィッティング\n",
    "        pred_train_y = clf.predict(train_x)               # 学習データで予測\n",
    "        train_acc = accuracy_score(train_y, pred_train_y) # 学習データの正解率\n",
    "        pred_val_y = clf.predict(val_x)             # 検証データで予測\n",
    "        val_acc = accuracy_score(val_y, pred_val_y) # 検証データの正解率\n",
    "        print( \"c:%s\\tgamma:%s\\ttrain_acc:%.3f\\tval_acc:%.3f\" \\\n",
    "              %(c, g, train_acc, val_acc) )\n",
    "        if best_val_acc_svm < val_acc: # 暫定ベストのモデルか確認\n",
    "            best_val_param_svm = [c, g] # パラメータ格納\n",
    "            best_clf_svm       = clf # モデルコピー\n",
    "            best_val_acc_svm   = val_acc # ベストな正解率を更新"
   ]
  },
  {
   "cell_type": "markdown",
   "metadata": {},
   "source": [
    "### ⑥－２：ランダムフォレストのチューニング\n",
    "ハイパーパラメータである作成するツリーの数と、作成するツリーの階層を変化させ、検証データでの精度を評価しながら最適なモデルを探します。"
   ]
  },
  {
   "cell_type": "code",
   "execution_count": 13,
   "metadata": {},
   "outputs": [
    {
     "name": "stdout",
     "output_type": "stream",
     "text": [
      "RF\n",
      "n_est:1\tmax_depth:1\ttrain_acc:0.513\tval_acc:0.499\n",
      "n_est:1\tmax_depth:2\ttrain_acc:0.519\tval_acc:0.500\n",
      "n_est:1\tmax_depth:5\ttrain_acc:0.663\tval_acc:0.649\n",
      "n_est:1\tmax_depth:10\ttrain_acc:0.845\tval_acc:0.767\n",
      "n_est:1\tmax_depth:20\ttrain_acc:0.945\tval_acc:0.830\n",
      "n_est:1\tmax_depth:50\ttrain_acc:0.945\tval_acc:0.830\n",
      "n_est:2\tmax_depth:1\ttrain_acc:0.513\tval_acc:0.499\n",
      "n_est:2\tmax_depth:2\ttrain_acc:0.519\tval_acc:0.500\n",
      "n_est:2\tmax_depth:5\ttrain_acc:0.688\tval_acc:0.666\n",
      "n_est:2\tmax_depth:10\ttrain_acc:0.872\tval_acc:0.796\n",
      "n_est:2\tmax_depth:20\ttrain_acc:0.948\tval_acc:0.825\n",
      "n_est:2\tmax_depth:50\ttrain_acc:0.950\tval_acc:0.830\n",
      "n_est:5\tmax_depth:1\ttrain_acc:0.579\tval_acc:0.589\n",
      "n_est:5\tmax_depth:2\ttrain_acc:0.601\tval_acc:0.555\n",
      "n_est:5\tmax_depth:5\ttrain_acc:0.750\tval_acc:0.695\n",
      "n_est:5\tmax_depth:10\ttrain_acc:0.928\tval_acc:0.830\n",
      "n_est:5\tmax_depth:20\ttrain_acc:0.984\tval_acc:0.857\n",
      "n_est:5\tmax_depth:50\ttrain_acc:0.984\tval_acc:0.859\n",
      "n_est:10\tmax_depth:1\ttrain_acc:0.579\tval_acc:0.590\n",
      "n_est:10\tmax_depth:2\ttrain_acc:0.607\tval_acc:0.564\n",
      "n_est:10\tmax_depth:5\ttrain_acc:0.760\tval_acc:0.699\n",
      "n_est:10\tmax_depth:10\ttrain_acc:0.942\tval_acc:0.846\n",
      "n_est:10\tmax_depth:20\ttrain_acc:0.991\tval_acc:0.862\n",
      "n_est:10\tmax_depth:50\ttrain_acc:0.992\tval_acc:0.863\n",
      "n_est:20\tmax_depth:1\ttrain_acc:0.579\tval_acc:0.589\n",
      "n_est:20\tmax_depth:2\ttrain_acc:0.631\tval_acc:0.609\n",
      "n_est:20\tmax_depth:5\ttrain_acc:0.787\tval_acc:0.722\n",
      "n_est:20\tmax_depth:10\ttrain_acc:0.950\tval_acc:0.847\n",
      "n_est:20\tmax_depth:20\ttrain_acc:0.997\tval_acc:0.864\n",
      "n_est:20\tmax_depth:50\ttrain_acc:0.998\tval_acc:0.873\n",
      "n_est:50\tmax_depth:1\ttrain_acc:0.580\tval_acc:0.589\n",
      "n_est:50\tmax_depth:2\ttrain_acc:0.628\tval_acc:0.609\n",
      "n_est:50\tmax_depth:5\ttrain_acc:0.787\tval_acc:0.719\n",
      "n_est:50\tmax_depth:10\ttrain_acc:0.962\tval_acc:0.857\n",
      "n_est:50\tmax_depth:20\ttrain_acc:1.000\tval_acc:0.866\n",
      "n_est:50\tmax_depth:50\ttrain_acc:0.999\tval_acc:0.872\n",
      "n_est:100\tmax_depth:1\ttrain_acc:0.580\tval_acc:0.587\n",
      "n_est:100\tmax_depth:2\ttrain_acc:0.626\tval_acc:0.606\n",
      "n_est:100\tmax_depth:5\ttrain_acc:0.788\tval_acc:0.722\n",
      "n_est:100\tmax_depth:10\ttrain_acc:0.962\tval_acc:0.855\n",
      "n_est:100\tmax_depth:20\ttrain_acc:1.000\tval_acc:0.869\n",
      "n_est:100\tmax_depth:50\ttrain_acc:1.000\tval_acc:0.869\n",
      "n_est:200\tmax_depth:1\ttrain_acc:0.580\tval_acc:0.586\n",
      "n_est:200\tmax_depth:2\ttrain_acc:0.624\tval_acc:0.604\n",
      "n_est:200\tmax_depth:5\ttrain_acc:0.792\tval_acc:0.734\n",
      "n_est:200\tmax_depth:10\ttrain_acc:0.963\tval_acc:0.858\n",
      "n_est:200\tmax_depth:20\ttrain_acc:1.000\tval_acc:0.870\n",
      "n_est:200\tmax_depth:50\ttrain_acc:1.000\tval_acc:0.867\n",
      "n_est:500\tmax_depth:1\ttrain_acc:0.581\tval_acc:0.587\n",
      "n_est:500\tmax_depth:2\ttrain_acc:0.624\tval_acc:0.616\n",
      "n_est:500\tmax_depth:5\ttrain_acc:0.801\tval_acc:0.733\n",
      "n_est:500\tmax_depth:10\ttrain_acc:0.965\tval_acc:0.863\n",
      "n_est:500\tmax_depth:20\ttrain_acc:1.000\tval_acc:0.868\n",
      "n_est:500\tmax_depth:50\ttrain_acc:1.000\tval_acc:0.869\n",
      "n_est:1000\tmax_depth:1\ttrain_acc:0.578\tval_acc:0.585\n",
      "n_est:1000\tmax_depth:2\ttrain_acc:0.614\tval_acc:0.600\n",
      "n_est:1000\tmax_depth:5\ttrain_acc:0.806\tval_acc:0.734\n",
      "n_est:1000\tmax_depth:10\ttrain_acc:0.964\tval_acc:0.862\n",
      "n_est:1000\tmax_depth:20\ttrain_acc:1.000\tval_acc:0.871\n",
      "n_est:1000\tmax_depth:50\ttrain_acc:1.000\tval_acc:0.871\n"
     ]
    }
   ],
   "source": [
    "print(\"RF\") # ランダムフォレストのチューニング\n",
    "for n in [1, 2, 5, 10, 20, 50, 100, 200, 500, 1000]: # ハイパーパラメータ\n",
    "    for d in [1, 2, 5, 10, 20 ,50]: # ハイパーパラメータ\n",
    "        # ハイパーパラメータの組み合わせ毎にモデルを用意\n",
    "        clf = RandomForestClassifier(n_estimators = n,max_depth = d,random_state = 0)\n",
    "        clf.fit(train_x, train_y) # フィッティング\n",
    "        pred_train_y = clf.predict(train_x) # 学習データで予測\n",
    "        train_acc = accuracy_score(train_y, pred_train_y) # 学習データの正解\n",
    "        pred_val_y = clf.predict(val_x) # 検証データで予測\n",
    "        val_acc = accuracy_score(val_y, pred_val_y) # 検証データの正解\n",
    "        print(\"n_est:%s\\tmax_depth:%s\\ttrain_acc:%.3f\\tval_acc:%.3f\" \\\n",
    "              %(n, d, train_acc, val_acc))\n",
    "        if best_val_acc_rf < val_acc: # 暫定ベストのモデルか確認\n",
    "            best_val_param_rf = [n, d] # パラメータ格納\n",
    "            best_clf_rf       = clf # モデルコピー\n",
    "            best_val_acc_rf   = val_acc # ベストな正解率を更新"
   ]
  },
  {
   "cell_type": "markdown",
   "metadata": {},
   "source": [
    "------------------\n",
    "## ⑦モデルの選択\n",
    "チューニング後のモデルを比較して、最終的に使うモデルを決めます。<br>"
   ]
  },
  {
   "cell_type": "markdown",
   "metadata": {},
   "source": [
    "### ⑦－１：アルゴリズム間の正解率比較\n",
    "まずは、SVMとランダムフォレストのベストモデルで精度を比較します。<br>\n",
    "SVMがランダムフォレストより正解率が高いことが確認できます。<br>"
   ]
  },
  {
   "cell_type": "code",
   "execution_count": 14,
   "metadata": {},
   "outputs": [
    {
     "name": "stdout",
     "output_type": "stream",
     "text": [
      "-Best Model------------------\n",
      "SVM\n",
      "val_acc.:0.8815\n",
      "[1000.0, 1.0]\n",
      "-Best RF------------------\n",
      "val_acc.:0.8730\n",
      "[20, 50]\n",
      "-Best SVM------------------\n",
      "val_acc.:0.8815\n",
      "[1000.0, 1.0]\n"
     ]
    }
   ],
   "source": [
    "if best_val_acc_rf < best_val_acc_svm: # SVMがランダムフォレストより良い場合\n",
    "    best_algo      = 'SVM'\n",
    "    best_val_param = best_val_param_svm # ベストなSVMハイパーパラメータ取得\n",
    "    best_clf       = best_clf_svm       # ベストなSVMモデル取得\n",
    "    best_val_acc   = best_val_acc_svm   # ベストなSVM正解率取得\n",
    "else:    \n",
    "    best_algo      = 'RF'    \n",
    "    best_val_param = best_val_param_rf # ベストなランダムフォレストハイパーパラメータ取得\n",
    "    best_clf       = best_clf_rf       # ベストなランダムフォレストモデル取得\n",
    "    best_val_acc   = best_val_acc_rf   # ベストなランダムフォレスト正解率取得\n",
    "    \n",
    "print (\"-Best Model------------------\")\n",
    "print(best_algo) # 最適パラメータの確認\n",
    "print(\"val_acc.:%.4f\" % best_val_acc)\n",
    "print(best_val_param) # 最適パラメータの確認\n",
    "\n",
    "print (\"-Best RF------------------\")\n",
    "print(\"val_acc.:%.4f\" % best_val_acc_rf)\n",
    "print(best_val_param_rf) # 最適パラメータの確認\n",
    "print (\"-Best SVM------------------\")\n",
    "print(\"val_acc.:%.4f\" % best_val_acc_svm)\n",
    "print(best_val_param_svm) # 最適パラメータの確認"
   ]
  },
  {
   "cell_type": "markdown",
   "metadata": {},
   "source": [
    "### <span style=\"color:red\">【変更あり】</span>⑦－２：ランダムフォレストの重要度確認\n",
    "ランダムフォレストはそれぞれの説明変数がどの程度結果に影響を与えたか確認できます。<br>\n",
    "モデルのfeature_importances_という属性を呼び出すことで、重要度を確認します。<br>\n",
    "重要度が高い説明変数に違和感を感じた場合には、使用する説明変数の見直しを検討することで結果が改善することがあります。<br>\n",
    "このような確認できるのがランダムフォレストのメリットです。<br>\n",
    "<span style=\"color:red\">ドメイン知識を用いて説明変数を変更しているので、重要度の表示もこれに併せて変更します。</span>"
   ]
  },
  {
   "cell_type": "code",
   "execution_count": 15,
   "metadata": {},
   "outputs": [
    {
     "data": {
      "image/png": "[encoded data removed]",
      "text/plain": [
       "<matplotlib.figure.Figure at 0xa572ba8>"
      ]
     },
     "metadata": {},
     "output_type": "display_data"
    }
   ],
   "source": [
    "# ランダムフォレストモデルにおける重要度を確認。\n",
    "# ランダムフォレストの場合、このようにどの説明変数が予測結果に寄与するか分かる。\n",
    "features = ['car_velocity_squared', 'distance_to_object', 'snow_road', 'tarmac_dry'] #【変更あり】\n",
    "plt.barh(range(len(features)), best_clf_rf.feature_importances_,\\\n",
    "         align='center', alpha = 0.5)\n",
    "plt.yticks( range( len(features) ), features )\n",
    "plt.xlabel('Importance')\n",
    "plt.show()"
   ]
  },
  {
   "cell_type": "markdown",
   "metadata": {},
   "source": [
    "### ⑦－３：再現率と適合率のトレードオフ確認と閾値設定\n",
    "ここまではモデルにクラスを予測させていましたが、ここではクラスごとの確率を予測させます。<br>\n",
    "predict()に代わって、predict_proba()を使って確率を予測します。<br>\n",
    "予測確率が閾値を超えたときに、そのクラスに該当するものと予測します。<br>\n",
    "閾値を1%刻みで変更しながら正解率、再現率、適合率の変化を確認します。<br>\n",
    "利用シーンを考えるとブレーキを踏まなければならないときに踏むことが重要なので、再現率を重視したほうが良いでしょう。<br>\n",
    "そこで、再現率が99%になる閾値を探します。<br>\n",
    "再現率を99%にそろえた時に、SVMの方がランダムフォレストより適合率が高いためよいモデルといえます。<br>"
   ]
  },
  {
   "cell_type": "code",
   "execution_count": 16,
   "metadata": {},
   "outputs": [
    {
     "data": {
      "image/png": "[encoded data removed]",
      "text/plain": [
       "<matplotlib.figure.Figure at 0x49fd1d0>"
      ]
     },
     "metadata": {},
     "output_type": "display_data"
    }
   ],
   "source": [
    "# 再現率と適合率のトレードオフ確認用の関数を作成\n",
    "def change_threshold(val_y, pred_proba_val_y):\n",
    "    # val_yは、検証データの教師ラベル\n",
    "    # pred_proba_val_yは、検証データの予測確率\n",
    "    val_acc_list = []\n",
    "    val_prec_list = []\n",
    "    val_rec_list = []\n",
    "    for thres_p in range(101): # 0%から100%まで1%刻みで閾値変更\n",
    "        # 予測確率pが閾値以上ならば1、そうでないならば0\n",
    "        pred_val_y = [1. if p >= thres_p / 100. else 0. for p in pred_proba_val_y]\n",
    "        temp_cm = confusion_matrix(val_y, pred_val_y) # 混合行列作成\n",
    "        val_acc = (temp_cm[0][0] + temp_cm[1][1]) / np.sum(temp_cm) * 100.\n",
    "        val_acc_list.append(val_acc) # 正解率をリストに追加\n",
    "        val_prec = (temp_cm[1][1] + 1.e-18) / (temp_cm[0][1] + temp_cm[1][1] + 1.e-18) * 100.\n",
    "        val_prec_list.append(val_prec) # 適合率をリストに追加\n",
    "        val_rec = (temp_cm[1][1]) / np.sum(temp_cm[1]) * 100.\n",
    "        val_rec_list.append(val_rec) # 再現率をリストに追加\n",
    "    return val_acc_list, val_prec_list, val_rec_list\n",
    "\n",
    "pred_proba_val_y = best_clf_rf.predict_proba(val_x)[:, 1] # 確率を予測\n",
    "val_acc_rf, val_prec_rf, val_rec_rf = change_threshold(val_y, pred_proba_val_y)\n",
    "\n",
    "pred_proba_val_y = best_clf_svm.predict_proba(val_x)[:, 1] # 確率を予測\n",
    "val_acc_svm, val_prec_svm, val_rec_svm = change_threshold(val_y, pred_proba_val_y)\n",
    "\n",
    "plt.figure(figsize = (8, 4)) # 図の大きさ指定\n",
    "plt.subplot(1, 2, 1) # 1行2列の図を作成。以降、まずは1つ目の図を指定\n",
    "plt.title(\"RandomForest\") # タイトル追加\n",
    "plt.plot(val_acc_rf, label = 'accuracy')   # ランダムフォレストの正解率\n",
    "plt.plot(val_rec_rf, label = 'recall')     # ランダムフォレストの再現率\n",
    "plt.plot(val_prec_rf, label = 'precision') # ランダムフォレストの適合率  \n",
    "plt.xlabel('Threshold(%)')   # x軸名\n",
    "plt.ylabel('Percentage(%)')  # y軸名\n",
    "plt.legend() # 凡例追加\n",
    "plt.subplot(1, 2, 2) # ２つ目の図を指定\n",
    "plt.title(\"SVM(rbf)\") # タイトル追加\n",
    "plt.plot(val_acc_svm, label = 'accuracy')   # SVMの正解率\n",
    "plt.plot(val_rec_svm, label = 'recall')     # SVMの再現率\n",
    "plt.plot(val_prec_svm, label = 'precision') # SVMの適合率 \n",
    "plt.xlabel('Threshold(%)')  # x軸名\n",
    "plt.ylabel('Percentage(%)') # y軸名\n",
    "plt.legend() # 凡例追加\n",
    "plt.show() # 図の描画"
   ]
  },
  {
   "cell_type": "markdown",
   "metadata": {},
   "source": [
    "## ⑧テストデータを用いた評価\n",
    "閾値を12%にしたときに検証データで再現率が99%となりました。<br>\n",
    "この閾値を用いて、評価データでの結果を確認します。<br>\n",
    "ここでは、混合行列で結果を出力していますが、必要に応じて正解率、再現率、適合率、F値などを計算してみましょう。<br>"
   ]
  },
  {
   "cell_type": "code",
   "execution_count": 17,
   "metadata": {},
   "outputs": [
    {
     "name": "stdout",
     "output_type": "stream",
     "text": [
      "-Testing------------------\n",
      "[[683 309]\n",
      " [ 15 993]]\n"
     ]
    }
   ],
   "source": [
    "print (\"-Testing------------------\")\n",
    "pred_proba_test_y = best_clf_svm.predict_proba(test_x)[:,1] # ベストなSVMで確率を予測\n",
    "# 閾値12%の時に際銀率99%を期待できることをval_rec_svm変数で確認。\n",
    "# 閾値12%以上でラベルを１、12%未満で0と予測\n",
    "pred_val_y = [1. if p >= 12. / 100. else 0. for p in pred_proba_test_y]\n",
    "# 閾値12%の際の混合行列を計算、出力\n",
    "temp_cm = confusion_matrix(test_y, pred_val_y)\n",
    "print(temp_cm)"
   ]
  },
  {
   "cell_type": "code",
   "execution_count": 18,
   "metadata": {
    "collapsed": true
   },
   "outputs": [],
   "source": [
    "# モデルを保存する\n",
    "filename = 'ml_svm_model_fe.sav'\n",
    "pickle.dump( best_clf_svm, open(filename, 'wb') )\n",
    "filename = 'ml_rf_model_fe.sav'\n",
    "pickle.dump( best_clf_rf, open(filename, 'wb') )"
   ]
  },
  {
   "cell_type": "code",
   "execution_count": null,
   "metadata": {
    "collapsed": true
   },
   "outputs": [],
   "source": []
  }
 ],
 "metadata": {
  "kernelspec": {
   "display_name": "Python 3",
   "language": "python",
   "name": "python3"
  },
  "language_info": {
   "codemirror_mode": {
    "name": "ipython",
    "version": 3
   },
   "file_extension": ".py",
   "mimetype": "text/x-python",
   "name": "python",
   "nbconvert_exporter": "python",
   "pygments_lexer": "ipython3",
   "version": "3.5.3"
  }
 },
 "nbformat": 4,
 "nbformat_minor": 2
}
