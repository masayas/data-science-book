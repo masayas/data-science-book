{
 "cells": [
  {
   "cell_type": "markdown",
   "metadata": {},
   "source": [
    "# ディープラーニングの実行"
   ]
  },
  {
   "cell_type": "markdown",
   "metadata": {},
   "source": [
    "-----------------\n",
    "## ①各種ライブラリの読み込み"
   ]
  },
  {
   "cell_type": "markdown",
   "metadata": {},
   "source": [
    "### ①－１：乱数の影響を受けるライブラリの読み込みとシード指定\n",
    "まずは乱数の影響を受ける恐れのあるライブラリ群を読み込みます。<br>\n",
    "各種ライブラリの乱数シードも忘れずに指定しておきましょう。<br>\n",
    "乱数シードを指定したにも関わらず、再現性が得られない場合もありますので、学習時にモデルの保存を忘れないようにしましょう。<br>\n",
    "残念ながら、ここで紹介している例では再現性が得られませんでした。<br>\n",
    "読者の皆さんが試した際に同じ結果が得られない点はご了承ください。<br>\n",
    "\n",
    "<ul>\n",
    "    <li>データ整形　・・・ numpy </li>\n",
    "    <li>ディープラーニングフレームワーク ・・・　tensorflow </li>\n",
    "    <li>乱数 ・・・ random  </li>\n",
    "    <li>OS（オペレーティングっステム）に依存した機能の利用　・・・ os\n",
    "    <li>ディープラーニングフレームワーク（ラッパーライブラリ） ・・・　keras.backend</li>\n",
    "</ul>"
   ]
  },
  {
   "cell_type": "code",
   "execution_count": 1,
   "metadata": {},
   "outputs": [
    {
     "name": "stderr",
     "output_type": "stream",
     "text": [
      "Using TensorFlow backend.\n",
      "C:\\Users\\s-ohashi\\Anaconda3\\envs\\tensorflow\\lib\\site-packages\\h5py\\__init__.py:34: FutureWarning: Conversion of the second argument of issubdtype from `float` to `np.floating` is deprecated. In future, it will be treated as `np.float64 == np.dtype(float).type`.\n",
      "  from ._conv import register_converters as _register_converters\n"
     ]
    }
   ],
   "source": [
    "#---------------------------------------\n",
    "#  各種ライブラリの読み込み①\n",
    "#---------------------------------------\n",
    "import numpy as np\n",
    "import tensorflow as tf\n",
    "import random as rn\n",
    "\n",
    "import os\n",
    "os.environ['PYTHONHASHSEED'] = '0'\n",
    "np.random.seed(123) # 乱数を使う場合、再現性を保つためSEEDを指定\n",
    "rn.seed(123)\n",
    "\n",
    "session_conf = tf.ConfigProto(intra_op_parallelism_threads = 1, \\\n",
    "                              inter_op_parallelism_threads = 1)\n",
    "from keras import backend as K\n",
    "tf.set_random_seed(123)\n",
    "sess = tf.Session(graph = tf.get_default_graph(), config = session_conf)\n",
    "K.set_session(sess)"
   ]
  },
  {
   "cell_type": "markdown",
   "metadata": {},
   "source": [
    "### ①－２：その他の必要ライブラリの読み込み\n",
    "乱数の影響を受けないライブラリを順に読み込みます。<br>\n",
    "<ul>\n",
    "    <li>データ整形　・・・ pandas </li>\n",
    "    <li>可視化 ・・・ matplotlib.pyplot </li>\n",
    "    <li>モデル定義 ・・・　keras.moels.Sequential</li>\n",
    "    <li>ネットワークの層（部品） ・・・　keras.layers.Dense, keras.layers.Dropout</li>\n",
    "    <li>最適化アルゴリズム ・・・　keras.optimizers.Adam</li>\n",
    "    <li>コールバック（最適化中に実行する処理） ・・・　keras.callbacks.LearningRateScheduler, keras.callbacks.EarlyStopping, keras.callbacks.ModelCheckpoint</li>\n",
    "    <li>モデルの読み込み ・・・　keras.models.load_model</li>\n",
    "    <li>機械学習の結果評価 ・・・ sklearn.metrics.confusion_matrix </li>\n",
    "</ul>"
   ]
  },
  {
   "cell_type": "code",
   "execution_count": 2,
   "metadata": {
    "collapsed": true
   },
   "outputs": [],
   "source": [
    "import pandas as pd\n",
    "import matplotlib.pyplot as plt\n",
    "\n",
    "from keras.models import Sequential     # ネットワーク構造定義に利用\n",
    "from keras.layers import Dense, Dropout # ネットワークの部品\n",
    "from keras.optimizers import Adam       # 最適化アルゴリズム\n",
    "# fit中に利用\n",
    "from keras.callbacks import LearningRateScheduler,EarlyStopping, ModelCheckpoint\n",
    "from keras.models import load_model          # モデルの読み込み用\n",
    "from sklearn.metrics import confusion_matrix # 混同行列作成用"
   ]
  },
  {
   "cell_type": "markdown",
   "metadata": {},
   "source": [
    "----------\n",
    "## ②データの取り込み、データ分割"
   ]
  },
  {
   "cell_type": "markdown",
   "metadata": {},
   "source": [
    "### ②－１：データの取り込み\n",
    "文字列を含む項目があるため、pandasを使いデータを取り込みます。<br>\n",
    "csv形式のデータなので、read_csvを使って取り込みましょう。"
   ]
  },
  {
   "cell_type": "code",
   "execution_count": 3,
   "metadata": {
    "collapsed": true
   },
   "outputs": [],
   "source": [
    "#---------------------------------------\n",
    "#  データの取り込み、データ分割②\n",
    "#---------------------------------------\n",
    "df = pd.read_csv(\"car_braking.csv\")"
   ]
  },
  {
   "cell_type": "markdown",
   "metadata": {},
   "source": [
    "### ②－２：データの分割\n",
    "scikit-learnが提供するtrain_test_split関数でも良いですが、ここではnumpyを活用した例を紹介します。<br>\n",
    "データを学習、検証、評価に６対２対２の比率で分割します。<br>\n",
    "そのためにまず全体のレコード数をlen(df)で求め、そこに各データの比率を掛けて、それぞれのデータ件数を求めます。<br>\n",
    "intで囲っているのは、レコード件数を整数にするためです。これをキャスティングといいます。<br>\n",
    "np.random.permutationを使って作られたperm_idxはランダムに並び替えられたインデックス値になります。<br>\n",
    "perm_idxを前から順に6割、2割、2割とデータを取得すると、無作為抽出（ランダムサンプリング）されたデータセットができます。"
   ]
  },
  {
   "cell_type": "code",
   "execution_count": 4,
   "metadata": {
    "collapsed": true
   },
   "outputs": [],
   "source": [
    "train_num = int( len(df) * 0.6 ) # 6割を学習データ\n",
    "val_num = int( len(df) * 0.2 )   # 2割を検証データ\n",
    "\n",
    "perm_idx = np.random.permutation( len(df) ) # ランダムなインデックス\n",
    "# perm_idxの先頭から6割までを学習用インデックスにする\n",
    "train_idx = perm_idx[ : train_num ]\n",
    "# perm_idxの先頭6割から8割までを検証用のインデックスにする\n",
    "val_idx = perm_idx[ train_num : (train_num + val_num) ]\n",
    "# perm_idxの先頭8割以降をテスト用のインデックスにする\n",
    "test_idx = perm_idx[ (train_num + val_num) : ]\n",
    "\n",
    "train_df = df.iloc[ train_idx, : ] # 学習用インデックス値で行抽出\n",
    "val_df = df.iloc[ val_idx, : ]     # 検証用インデックス値で行抽出\n",
    "test_df = df.iloc[ test_idx, : ]   # テスト用インデックスで行抽出"
   ]
  },
  {
   "cell_type": "markdown",
   "metadata": {
    "collapsed": true
   },
   "source": [
    "--------\n",
    "## ③教師ラベルの加工\n",
    "ここでは分類問題を考えますが、データにはブレーキを踏む・踏まないという教師ラベルがありません。<br>\n",
    "停止距離(measured_braking_distance)がデータ上にあるので、この値と前方物体までの距離を比較して教師ラベルを作ります。<br>\n",
    "ブレーキを踏む場合は１、踏まない場合は０とします。<br>\n",
    "1サンプルにつき物体までの距離を5パターン用意します。<br>"
   ]
  },
  {
   "cell_type": "markdown",
   "metadata": {},
   "source": [
    "### ③－１：教師ラベル作成用の関数作成\n",
    "データを格納するための空のデータフレーム(container_df)を作ります。<br>\n",
    "pd.DataFrameでデータフレームを呼び出し、その後ろにdictionary形式で変数名と空のリストを与えます。<br>\n",
    "{　変数名1:[], 変数名2:[] }といった具合です。<br><br>\n",
    "次に、説明変数として使う項目をリスト形式でデータフレームに与えます。<br>\n",
    "このデータフレームをtemp_dfとします。<br><br>\n",
    "続いて、物体までの距離の生成するためにnp.random.uniformを使い一様分布の乱数を生成します。<br>\n",
    "この乱数を使い、停止距離の50%から150%の範囲で物体まで距離を生成します。<br><br>\n",
    "停止距離と物体までの距離の大小関係から教師ラベルを作ります。<br>\n",
    "物体までの距離（distance_to_object）と教師ラベル(hit_brake)をtemp_dfのデータフレームに追加します。<br><br>\n",
    "container_dfにtemp_dfを追加します。<br><br>\n",
    "この一連の処理を引数に与えているsamplesの回数だけ繰り返します。<br>"
   ]
  },
  {
   "cell_type": "code",
   "execution_count": 5,
   "metadata": {
    "collapsed": true
   },
   "outputs": [],
   "source": [
    "#---------------------------------------\n",
    "#  教師ラベルの加工③\n",
    "#---------------------------------------\n",
    "# ここでは分類問題として考える。\n",
    "# 車重、車速、タイヤ幅、路面、物体までの距離を与えたときに、\n",
    "# ブレーキを踏む必要があるかを判定するロジックを作る。\n",
    "# 教師ラベルはブレーキを踏む場合１、踏まない場合は０とする。\n",
    "# 0と１の教師ラベルを停止距離(measured_braking_distance)と\n",
    "# 乱数生成で作った物体までの距離で作る\n",
    "# 1サンプルにつき、物体までの距離が異なるサンプルを5個作る\n",
    "# 停止距離<=物体までの距離のときブレーキを踏むとする。\n",
    "\n",
    "def create_label( samples, input_df ):\n",
    "    # samplesは、１計測結果につき作るサンプル数。この例では5。\n",
    "    # input_dfは、入力するデータフレーム\n",
    "    \n",
    "    # 空のデータフレームのコンテナを作成。ここにデータを足していく。\n",
    "    container_df = pd.DataFrame( {'car_weight'         : [], # 車重\n",
    "                                  'car_velocity'       : [], # 車速\n",
    "                                  'tire_width'         : [], # タイヤ幅\n",
    "                                  'road_type'          : [], # 路面\n",
    "                                  'distance_to_object' : [], # 物体までの距離\n",
    "                                  'hit_brake'          : []} ) # ブレーキ要否\n",
    "    for i in range(samples):\n",
    "        temp_df = input_df[ ['car_weight', 'car_velocity', \\\n",
    "                            'tire_width', 'road_type'] ] #列指定\n",
    "        # 停止距離の50%～150%でサンプルを作る。\n",
    "        # numpyのuniform関数で一様分布の乱数を生成して、停止距離に掛ける。\n",
    "        random_distance = input_df['measured_braking_distance'] \\\n",
    "                          * np.random.uniform( 0.5, 1.5, len(input_df) )\n",
    "        # 停止距離がランダムな距離以下の時１、そうでない場合は0とする。\n",
    "        # これを教師ラベルとする。\n",
    "        # リストにif-else処理をして、別のリストを作る方法\n",
    "        # [TRUE時の処理 if 条件 else FALSE時の処理 for文]\n",
    "        labels = [ 1. if \\\n",
    "                        (input_df['measured_braking_distance']).iloc[j] \\\n",
    "                        <= random_distance.iloc[j] \\\n",
    "                      else \\\n",
    "                        0. \\\n",
    "                      for j in range( len(input_df) ) ]\n",
    "        # ランダムな距離をデータフレームに格納\n",
    "        temp_df['distance_to_object'] = random_distance\n",
    "        # ラベルをデータフレームに格納\n",
    "        temp_df['hit_brake'] = labels\n",
    "        # データをコンテナのデータフレームに追加\n",
    "        container_df = pd.concat([container_df, temp_df])\n",
    "    return container_df"
   ]
  },
  {
   "cell_type": "markdown",
   "metadata": {},
   "source": [
    "### ③－２：学習、検証、評価データに教師ラベル作成用の関数を適用\n",
    "教師ラベル作成用の関数を各データセットに適用します。<br>\n",
    "1サンプルにつき物体までの距離を5パターン用意するので、一つ目の引数を5にしています。<br>\n",
    "こうして作られるtrain_df2, val_df2, test_df2は説明変数と目的変数（教師ラベル）の両方を含んでいるため、目的変数を別変数として取り出しておきます。<br>\n",
    "なお、命名する際は説明変数となるものにxを、目的変数となるものにｙをつけるのが慣例です。"
   ]
  },
  {
   "cell_type": "code",
   "execution_count": 6,
   "metadata": {
    "collapsed": true
   },
   "outputs": [],
   "source": [
    "# 学習、検証、テストデータの各サンプルについて5個教師ラベルを作る\n",
    "train_df2 = create_label(5, train_df)\n",
    "val_df2 = create_label(5, val_df)\n",
    "test_df2 = create_label(5, test_df)\n",
    "\n",
    "train_y = np.array(train_df2['hit_brake'])\n",
    "val_y = np.array(val_df2['hit_brake'])\n",
    "test_y = np.array(test_df2['hit_brake'])"
   ]
  },
  {
   "cell_type": "markdown",
   "metadata": {},
   "source": [
    "-----------------\n",
    "## ④カテゴリ変数をダミー変数に変換\n",
    "\n",
    "カテゴリ変数とは、通常の変数とは違い連続値ではなく離散値の説明変数です。<br>\n",
    "この例のように文字列だけでなく、数値もカテゴリ変数になりえます。<br>\n",
    "例えば、店舗コードなどは数字で記録されますが、数値の大小関係に意味はないためカテゴリ変数として扱うのが適切です。<br>\n",
    "こういった説明変数を扱う際は、ダミー変数化をします。<br>\n",
    "ダミー変数化すると、元々の説明変数を除外し、代わりに説明変数のユニーク値が項目になります。<br>\n",
    "路面状態のユニーク値は３つあるため、ダミー変数を２つ用意すれば元データと同じ情報となります。<br>\n",
    "※3つ目のユニーク値については、1つ目か2つ目かの情報があれば消去法で判断できるため不要\n",
    "\n",
    "●元データ\n",
    "\n",
    "|road_type|\n",
    "|---|\n",
    "|snow_road| \n",
    "|tarmac_dry|\n",
    "|snow_road| \n",
    "|tarmac_wet|\n",
    "|...| \n",
    "<br>\n",
    "\n",
    "●ダミー変数化後\n",
    "\n",
    "|snow_road|tarmac_dry|\n",
    "|---|\n",
    "|1|0| \n",
    "|0|1|\n",
    "|1|0|\n",
    "|0|0|\n",
    "|...|...| \n"
   ]
  },
  {
   "cell_type": "markdown",
   "metadata": {},
   "source": [
    "### ④－１：ユニーク値の確認\n",
    "ユニーク値の件数（同一の値の重複を取り除いた状態での件数）を確認します。<br>\n",
    "np.unique()を使うことで重複を取り除き、ユニーク値を得ることができます。<br>"
   ]
  },
  {
   "cell_type": "code",
   "execution_count": 7,
   "metadata": {},
   "outputs": [
    {
     "name": "stdout",
     "output_type": "stream",
     "text": [
      "-unique road type------------------\n",
      "['snow_road' 'tarmac_dry' 'tarmac_wet']\n"
     ]
    }
   ],
   "source": [
    "#---------------------------------------\n",
    "#  カテゴリ変数をダミー変数に変換④\n",
    "#---------------------------------------\n",
    "# カテゴリ変数であるroad_type変数のユニーク値を調べる\n",
    "unique_road_type = np.unique(df['road_type'])\n",
    "print (\"-unique road type------------------\")\n",
    "print(unique_road_type)"
   ]
  },
  {
   "cell_type": "markdown",
   "metadata": {},
   "source": [
    "### ④－２：空のダミー変数の作成\n",
    "ダミー変数はユニーク値が多くない場合は、ユニーク値－1です。<br>\n",
    "ダミー変数の行数は元々のデータと同じなので、len()を使って件数を取得します。<br>\n",
    "np.zerosですべての値が0の行列を作ります。<br>"
   ]
  },
  {
   "cell_type": "code",
   "execution_count": 8,
   "metadata": {
    "collapsed": true
   },
   "outputs": [],
   "source": [
    "# ダミー変数の数はダミー変数は（ユニーク値の数）-1になる。\n",
    "# ユニーク値が多い場合は、「その他」にまとめるなどの工夫が必要だが、\n",
    "# 今回は少ないためそのような対応は不要\n",
    "dummy_cat_num = len(unique_road_type)-1 #ダミー変数の数\n",
    "# 空のダミー変数を作成。この後のダミー変数化の処理で値を入れていく。\n",
    "# np.zeros()はからの行列を作る。引数に行列の大きさを与える。\n",
    "# 行数は学習、検証、テストデータの行数、列は（ユニーク値の数）-1\n",
    "train_dummy_vars = np.zeros( (len(train_df2), dummy_cat_num) )\n",
    "val_dummy_vars = np.zeros( (len(val_df2), dummy_cat_num) )\n",
    "test_dummy_vars = np.zeros( (len(test_df2), dummy_cat_num) )"
   ]
  },
  {
   "cell_type": "markdown",
   "metadata": {},
   "source": [
    "### ④－３：ダミー変数化\n",
    "ダミー変数毎に以下の処理をします。<br>\n",
    "元のデータの路面状態(road_type)を確認して、値が０か１かを判断して④－２で作ったからのダミー変数に反映させます。"
   ]
  },
  {
   "cell_type": "code",
   "execution_count": 9,
   "metadata": {
    "collapsed": true
   },
   "outputs": [],
   "source": [
    "# ダミー変数化\n",
    "for i in range(dummy_cat_num): # ダミー変数の数だけループ\n",
    "    this_road_type = unique_road_type[i] # ダミー変数化する路面を選択\n",
    "    # 学習、検証、テストデータ上の路面が、今ダミー変数化したい路面だった場合に１、\n",
    "    # そうでない場合に0にする。\n",
    "    train_dummy_vars[:, i] = [ 1. if road_type == this_road_type else 0.\\\n",
    "                    for road_type in train_df2['road_type'] ] \n",
    "    val_dummy_vars[:, i] = [ 1. if road_type == this_road_type else 0. \\\n",
    "                  for road_type in val_df2['road_type']] \n",
    "    test_dummy_vars[:, i] = [ 1. if road_type == this_road_type else 0. \\\n",
    "                   for road_type in test_df2['road_type'] ] "
   ]
  },
  {
   "cell_type": "markdown",
   "metadata": {},
   "source": [
    "-----------------\n",
    "## ⑤標準化\n",
    "標準化とは、説明変数の平均を０にして、標準偏差を１にする処理です。<br>\n",
    "機械学習のアルゴリズムの中には、説明変数毎にとる値の範囲が違いすぎると、学習が上手くいかないものがあります。<br>\n",
    "このため、どの説明変数を見ても平均が０で標準偏差が１になるようにするのが良いとされます。<br>"
   ]
  },
  {
   "cell_type": "markdown",
   "metadata": {},
   "source": [
    "### ⑤－１：平均と標準偏差の算出と保存\n",
    "モデルを使うのに必要な説明変数のうち連続値であるものを取得します。<br>\n",
    "学習データで、これら説明変数の平均と標準偏差を算出します。<br>\n",
    "ここで求めた平均と標準偏差は後々必要なため、np.saveを使って保存しておきます。"
   ]
  },
  {
   "cell_type": "code",
   "execution_count": 10,
   "metadata": {
    "collapsed": true
   },
   "outputs": [],
   "source": [
    "train_x = np.array(train_df2[ ['car_weight', 'car_velocity', 'tire_width',\\\n",
    "                              'distance_to_object'] ]) # 連続値取得\n",
    "mean_x = np.mean(train_x, axis = 0)\n",
    "std_x = np.std(train_x, axis = 0)\n",
    "np.save('mean_x.npy', mean_x) # 平均値の保存\n",
    "np.save('std_x.npy', std_x)   # 標準偏差の保存"
   ]
  },
  {
   "cell_type": "markdown",
   "metadata": {},
   "source": [
    "### ⑤－２：標準化処理\n",
    "学習、検証、テストデータのそれぞれから⑤－１で求めた平均を引き、⑤－１で求めた標準偏差で割ります。"
   ]
  },
  {
   "cell_type": "code",
   "execution_count": 11,
   "metadata": {
    "collapsed": true
   },
   "outputs": [],
   "source": [
    "train_x -= mean_x #平均0\n",
    "train_x /= std_x  #標準偏差1\n",
    "train_x = np.hstack([train_x, train_dummy_vars]) # 連続値とダミー変数のマージ\n",
    "\n",
    "val_x = np.array(val_df2[ ['car_weight', 'car_velocity', 'tire_width',\\\n",
    "                          'distance_to_object'] ]) # 連続値取得\n",
    "val_x -= mean_x # 平均0\n",
    "val_x /= std_x  # 標準偏差1\n",
    "val_x = np.hstack([val_x, val_dummy_vars]) # 連続値とダミー変数のマージ\n",
    "\n",
    "test_x = np.array(test_df2[ ['car_weight', 'car_velocity', 'tire_width',\\\n",
    "                            'distance_to_object'] ]) # 連続値取得\n",
    "test_x -= mean_x # 平均0\n",
    "test_x /= std_x  # 標準偏差1\n",
    "test_x = np.hstack([test_x, test_dummy_vars]) # 連続値とダミー変数のマージ"
   ]
  },
  {
   "cell_type": "markdown",
   "metadata": {},
   "source": [
    "-----------------\n",
    "##  ⑥ネットワーク構造の定義、モデルのコンパイル\n",
    "チューニング処理でモデルを何度も作り直すことになるので、モデルを作る関数を作っています。<br>\n",
    "モデルのハイパーパラメータは各層のユニット数として、関数の引数pで与えています。<br>\n",
    "関数内では、まずモデルを作るためにSequentialオブジェクトを作ります。<br>\n",
    "このモデルに層を追加後、コンパイルしてモデルが使える状態になります。<br>\n",
    "モデルに層を追加するためには.add()メソッドを使います。<br>\n",
    "ここでは最も基本的な層である全結合層Dense()を使っています。<br>\n",
    "Denseの引数でユニット数や活性化関数（activation）を指定しますが、一層目の層のみ追加で入力データの項目数(input_shape)の指定が必要です。<br>\n",
    "層と層の間にDropout()を入れると過学習が抑制できるので、ここでは追加することにしました。<br><br>\n",
    "\n",
    "モデルをコンパイルするには、.compile()メソッドを呼び出します。<br>\n",
    "重要な引数はloss、metrics、optimizerです。<br>"
   ]
  },
  {
   "cell_type": "code",
   "execution_count": 12,
   "metadata": {},
   "outputs": [],
   "source": [
    "def model_create_compile(p): # pは各層のユニット数が記録されたリスト\n",
    "    model = Sequential() # 以降、モデルにaddで層を追加\n",
    "    \n",
    "    # p[0]から1層目のユニット数を取得、活性化関数はrelu\n",
    "    # 最初の隠れ層はinput_shapeの指定が必要\n",
    "    model.add(  Dense( p[0], activation='relu' ,input_shape=(6,) )  ) \n",
    "    #過学習を抑えて、精度を向上させるために追加\n",
    "    model.add( Dropout(0.5) )\n",
    "    \n",
    "    # p[1]から2層目のユニット数を取得。p[1]が0より大きい場合、2層目作成処理。\n",
    "    # 2層目からはinput_shapeの指定が不要\n",
    "    if p[1] > 0:\n",
    "        model.add( Dense(p[1], activation='relu') )\n",
    "        model.add( Dropout(0.5) )\n",
    "        # p[2]から3層目のユニット数を取得。p[2]が0より大きい場合、3層目作成処理。\n",
    "        if p[2] > 0:\n",
    "            model.add( Dense(p[2], activation='relu') )\n",
    "            model.add( Dropout(0.5) )\n",
    "    # 出力層の作成\n",
    "    # ブレーキを踏む確率を出力させたいため、ユニット数１で活性化関数はシグモイド\n",
    "    # これで0~1の値を出力するモデルが作れる\n",
    "    model.add(Dense(1, activation='sigmoid'))\n",
    "    \n",
    "    # モデルは、コンパイルしないと使えないため注意\n",
    "    # 損失関数をbinary_crossentropyを指定\n",
    "    # metricで正解率を確認するためにaccを指定\n",
    "    # 最適化アルゴリズムはAdamを使用\n",
    "    model.compile( loss='binary_crossentropy', metrics=['acc'], optimizer=Adam() ) \n",
    "    \n",
    "    return model"
   ]
  },
  {
   "cell_type": "markdown",
   "metadata": {},
   "source": [
    "### ⑦学習の設定と実行\n",
    "ディープラーニングでは一部のデータを用い、モデルを段階的に更新していきます。<br>\n",
    "この際、一回の更新でどの程度パラメータを変更するかを決めるのが学習率(learning rate)です。<br>\n",
    "学習率の値は最初は大きめにして徐々に低下させていくのが一般的ですので、これをstep_decay()関数で定義しています。<br><br>\n",
    "\n",
    "次に、学習をするため一連の処理をfit_and_checkpoint()関数に定義します。<br>\n",
    "1エポック終わるごとに実行される処理（callbacks）は三つ指定します。\n",
    "<ul>\n",
    "    <li>LearningRateScheduler\n",
    "        <ul>\n",
    "            <li>先ほど定義したstep_decay()関数を使って、学習率を変化させます。</li>\n",
    "            <li>LearningRateScheduler()の引数にstep_decayを与えます。</li>\n",
    "        </ul>\n",
    "    </li>\n",
    "    <li>EarlyStopping\n",
    "        <ul>\n",
    "            <li>学習処理の打ち切り設定です。</li>\n",
    "            <li>検証データでの損失値（val_loss）が30エポック改善しないとき打ち切るようにしています。</li>\n",
    "        </ul>\n",
    "    </li>\n",
    "    <li>ModelCheckpoint\n",
    "        <ul>\n",
    "            <li>学習の途中でよいモデルが見つかった際にモデルを保存しておくのに使います。</li>\n",
    "            <li>検証データでの損失値（val_loss）がこれまでで最もよいモデルを都度保存するようにします。</li>\n",
    "            <li>filepathで保存先と保存する名前を指定します。</li>\n",
    "        </ul>\n",
    "    </li>\n",
    "</ul>\n",
    "\n"
   ]
  },
  {
   "cell_type": "code",
   "execution_count": 13,
   "metadata": {},
   "outputs": [],
   "source": [
    "#---------------------------------------\n",
    "#  学習の設定と実行⑦\n",
    "#---------------------------------------\n",
    "# 学習率のスケジュラーに必要な関数を定義する\n",
    "def step_decay(epoch):\n",
    "    init_lr = 1.e-2     # 初期の学習率\n",
    "    if epoch >= 20:\n",
    "        init_lr = 1.e-3 # 20エポック後の学習率\n",
    "    if epoch >= 40:\n",
    "        init_lr = 1.e-4 # 40エポック後の学習率\n",
    "    if epoch >= 60:\n",
    "        init_lr = 1.e-5 # 60エポック後の学習率\n",
    "    return init_lr\n",
    "\n",
    "def fit_and_checkpoint(model):\n",
    "    # 最適化する際に用いる学習率を定期的に下げていくのが一般的。\n",
    "    # ここでstep_decayをスケジュラーとして指定。\n",
    "    lr_decay = LearningRateScheduler(step_decay)\n",
    "    \n",
    "    # ディープラーニングでは学習をやめるタイミングが重要。EarlyStopという。\n",
    "    # ここでは30epoch待ってもval_lossが改善しない場合、処理を中断する。\n",
    "    early_stop = EarlyStopping(monitor='val_loss', patience=30, verbose=0, mode='auto')\n",
    "    \n",
    "    # ディープラーニングでは学習を進めるほど良いとは限らないため、\n",
    "    # このネットワーク構造での暫定ベストモデルを記録する。\n",
    "    model_cp = ModelCheckpoint(filepath = 'dl_model.h5' , monitor='val_loss', \\\n",
    "                               verbose=0, save_best_only=True, mode='auto')\n",
    "    # fit()でフィッティング。historyには、epoch毎の結果が格納されるが、ここでは使わない。\n",
    "    history = model.fit(train_x, train_y,\n",
    "                        batch_size=512, # バッチサイズ。モデルを1度更新する際に利用するサンプル数。\n",
    "                        epochs=300,     # 多めに300エポック実施\n",
    "                        verbose=0,      # 最適化の経過を表示しない\n",
    "                        validation_data=(val_x, val_y), # 検証データを指定\n",
    "                        callbacks=[lr_decay,early_stop, model_cp], # 1エポック終わる毎に実施する処理\n",
    "                        shuffle=True) # 学習を安定化させるためにデータ順序をエポック毎に変更\n",
    "    return model"
   ]
  },
  {
   "cell_type": "markdown",
   "metadata": {},
   "source": [
    "------------------\n",
    "## ⑧ネットワーク構造のチューニング"
   ]
  },
  {
   "cell_type": "markdown",
   "metadata": {},
   "source": [
    "### ⑧－１：ランダムサーチ用ハイパーパラメータのリスト化\n",
    "今回のネットワーク構造としては3層で十分と仮定し、各層で8~256ユニットの間で最適な構造を探します。<br>\n",
    "機械学習の例の様に全ハイパーパラメータの組み合わせを網羅的に探索するグリッドサーチを用いてもよいのですが、<br>\n",
    "ディープラーニングは学習に時間が非常に掛かる場合もあるためランダムサーチを紹介します。<br><br>\n",
    "\n",
    "ランダムサーチの紹介に入る前に、グリッドサーチの問題点について触れます。<br>\n",
    "通常、ハイパーパラメータが似ていると出来上がるモデルの結果も似てきます。<br>\n",
    "このため、結果がよくないと分かりきっているようなハイパーパラメータでも学習をすることになり、無駄が多いハイパーパラメータの探索方法ともいえます。<br><br>\n",
    "\n",
    "ランダムサーチは文字通りハイパーパラメータをランダムに決めます。<br>\n",
    "ランダムなハイパーパラメータを選ぶと、結果がよいハイパーパラメータを推測することが出来ます。<br>\n",
    "ランダムなハイパーパラメータで学習させると隠れ層は何層ぐらいが良さそうか、ユニット数はどの程度必要そうかといった傾向が見えてきます。<br>\n",
    "今回の例の場合、ハイパーパラメータの組み合わせは258個ありますが、この中の40個ほどをサンプルしてモデルを作ります。"
   ]
  },
  {
   "cell_type": "code",
   "execution_count": 14,
   "metadata": {},
   "outputs": [],
   "source": [
    "# ネットワークの定義用ハイパーパラメータ\n",
    "layer1_val=[8,16,32,64,128,256] # 1層目のユニット数の探索範囲\n",
    "layer2_val=[0,8,16,32,64,128,256] # 2層目のユニット数の探索範囲\n",
    "layer3_val=[0,8,16,32,64,128,256] # 3層目のユニット数の探索範囲\n",
    "\n",
    "# ハイパーパラメータの組み合わせを40種類作成\n",
    "param_key=set() # 重複したハイパーパラメータがないようにsetを利用\n",
    "param_list=[]   # ハイパーパラメータ自体はこの配列に記録\n",
    "while True:\n",
    "    l1v=np.random.choice(layer1_val) # 1層目のユニット数をランダムに選ぶ\n",
    "    l2v=np.random.choice(layer2_val) # 2層目のユニット数をランダムに選ぶ\n",
    "    if l2v>0: # 2層目がある時のみ3層目のユニット数をランダムに選ぶ\n",
    "        l3v=np.random.choice(layer3_val)\n",
    "    else:\n",
    "        l3v=0\n",
    "    key_val=\"%s_%s_%s\"%(l1v,l2v,l3v) # ハイパーパラメータの組み合わせ\n",
    "    if not (key_val in param_key): # 重複がないか確認\n",
    "        param_key.add(key_val)\n",
    "        param_list.append([l1v,l2v,l3v])\n",
    "    if len(param_list) == 40: # 40種類作成後中断\n",
    "        break"
   ]
  },
  {
   "cell_type": "markdown",
   "metadata": {},
   "source": [
    "### ⑧－２：チューニングの実行\n",
    "⑧-1で作ったパラメータを⑥で作ったモデル作成用の関数model_create_compile()に与えてmodelを作ります。<br>\n",
    "作られたmodelを⑦で作った学習の設定と実行用の関数fit_and_checkpoint()に与えて、学習と検証データでの評価を行います。<br>\n",
    "ModelCheckpointが保存するモデルはハイパーパラメータが同じでEpoch数が異なるものの中での暫定ベストなので、<br>\n",
    "この結果を他のハイパーパラメータの結果と比較しなければなりません。<br>\n",
    "まず、現在のネットワーク構造でval_loss（検証データに対する損失値）が最小だったモデルはdl_model.h5に保存されているため、読み込んだ上で損失値を確認します。<br>\n",
    "次に、この値が他のハイパーパラメータの暫定ベストの損失値より良ければ、現在のネットワーク構造とモデルをtemp_bestdl_model.h5に記録します。<br>\n",
    "この処理を40回繰り返します。"
   ]
  },
  {
   "cell_type": "code",
   "execution_count": 15,
   "metadata": {},
   "outputs": [
    {
     "name": "stdout",
     "output_type": "stream",
     "text": [
      "model 0--------\n",
      "TEMP_BEST:[8, 8, 128]\tval_loss:0.4358\tval_acc:0.8120\n",
      "model 1--------\n",
      "TEMP_BEST:[16, 64, 256]\tval_loss:0.3356\tval_acc:0.8445\n",
      "model 2--------\n",
      "[8, 8, 16]\tval_loss:0.4312\tval_acc:0.8085\n",
      "model 3--------\n",
      "[32, 8, 8]\tval_loss:0.4119\tval_acc:0.8320\n",
      "model 4--------\n",
      "TEMP_BEST:[256, 0, 0]\tval_loss:0.3245\tval_acc:0.8540\n",
      "model 5--------\n",
      "[32, 0, 0]\tval_loss:0.3964\tval_acc:0.8285\n",
      "model 6--------\n",
      "[32, 256, 8]\tval_loss:0.3265\tval_acc:0.8290\n",
      "model 7--------\n",
      "TEMP_BEST:[256, 16, 0]\tval_loss:0.3040\tval_acc:0.8410\n",
      "model 8--------\n",
      "[64, 128, 8]\tval_loss:0.3170\tval_acc:0.8385\n",
      "model 9--------\n",
      "[128, 32, 32]\tval_loss:0.3065\tval_acc:0.8420\n",
      "model 10--------\n",
      "[128, 64, 64]\tval_loss:0.3060\tval_acc:0.8390\n",
      "model 11--------\n",
      "[128, 16, 8]\tval_loss:0.3101\tval_acc:0.8465\n",
      "model 12--------\n",
      "[16, 16, 0]\tval_loss:0.3630\tval_acc:0.8325\n",
      "model 13--------\n",
      "[16, 0, 0]\tval_loss:0.4277\tval_acc:0.8155\n",
      "model 14--------\n",
      "[16, 32, 8]\tval_loss:0.3851\tval_acc:0.8255\n",
      "model 15--------\n",
      "[32, 16, 0]\tval_loss:0.3438\tval_acc:0.8285\n",
      "model 16--------\n",
      "[16, 8, 16]\tval_loss:0.3781\tval_acc:0.8295\n",
      "model 17--------\n",
      "[64, 64, 0]\tval_loss:0.3104\tval_acc:0.8440\n",
      "model 18--------\n",
      "[16, 32, 64]\tval_loss:0.3745\tval_acc:0.8330\n",
      "model 19--------\n",
      "TEMP_BEST:[128, 256, 64]\tval_loss:0.2982\tval_acc:0.8460\n",
      "model 20--------\n",
      "[32, 32, 64]\tval_loss:0.3306\tval_acc:0.8370\n",
      "model 21--------\n",
      "[64, 256, 128]\tval_loss:0.3054\tval_acc:0.8430\n",
      "model 22--------\n",
      "[128, 8, 16]\tval_loss:0.3179\tval_acc:0.8345\n",
      "model 23--------\n",
      "[8, 128, 16]\tval_loss:0.4382\tval_acc:0.8025\n",
      "model 24--------\n",
      "[128, 256, 0]\tval_loss:0.3019\tval_acc:0.8440\n",
      "model 25--------\n",
      "[128, 0, 0]\tval_loss:0.3422\tval_acc:0.8420\n",
      "model 26--------\n",
      "[32, 128, 128]\tval_loss:0.3148\tval_acc:0.8450\n",
      "model 27--------\n",
      "[64, 256, 16]\tval_loss:0.3117\tval_acc:0.8330\n",
      "model 28--------\n",
      "[128, 64, 128]\tval_loss:0.3019\tval_acc:0.8420\n",
      "model 29--------\n",
      "[256, 32, 8]\tval_loss:0.3005\tval_acc:0.8425\n",
      "model 30--------\n",
      "[64, 256, 0]\tval_loss:0.3084\tval_acc:0.8485\n",
      "model 31--------\n",
      "TEMP_BEST:[256, 64, 32]\tval_loss:0.2932\tval_acc:0.8475\n",
      "model 32--------\n",
      "[64, 256, 64]\tval_loss:0.3003\tval_acc:0.8485\n",
      "model 33--------\n",
      "[64, 16, 128]\tval_loss:0.3243\tval_acc:0.8425\n",
      "model 34--------\n",
      "[16, 128, 8]\tval_loss:0.3691\tval_acc:0.8290\n",
      "model 35--------\n",
      "[64, 32, 16]\tval_loss:0.3240\tval_acc:0.8350\n",
      "model 36--------\n",
      "[16, 256, 8]\tval_loss:0.3818\tval_acc:0.8220\n",
      "model 37--------\n",
      "[32, 32, 8]\tval_loss:0.3334\tval_acc:0.8420\n",
      "model 38--------\n",
      "[256, 16, 16]\tval_loss:0.3029\tval_acc:0.8425\n",
      "model 39--------\n",
      "[128, 32, 16]\tval_loss:0.3025\tval_acc:0.8415\n"
     ]
    }
   ],
   "source": [
    "#チューニング処理    \n",
    "best_val_loss=99999. \n",
    "m=0 #　経過確認用。最適化したモデル数。\n",
    "for p in param_list: # 予め作ったハイパーパラメータのランダムな組み合わせを順に実行（ランダムサーチ）\n",
    "    print(\"model %s--------\"%m)\n",
    "    model = model_create_compile(p)   # ネットワーク構造の定義、モデルのコンパイル⑥\n",
    "    model = fit_and_checkpoint(model) # 学習の設定と実行⑦\n",
    "    model.load_weights('dl_model.h5') # 現在のネットワーク構造で検証データのLossが最小だったモデルを読み込む\n",
    "    val_loss=model.evaluate( val_x, val_y,batch_size=512, verbose=0) # loss値確認\n",
    "    if best_val_loss>val_loss[0]: # 現在のネットワーク構造が暫定ベストの場合、暫定ベストとして保存\n",
    "        print( \"TEMP_BEST:%s\\tval_loss:%.4f\\tval_acc:%.4f\"%(p, val_loss[0], val_loss[1]) )\n",
    "        best_val_loss=val_loss[0]\n",
    "        model.save('temp_bestdl_model.h5')\n",
    "    else:\n",
    "        print( \"%s\\tval_loss:%.4f\\tval_acc:%.4f\"%(p,val_loss[0], val_loss[1]) )\n",
    "    m+=1"
   ]
  },
  {
   "cell_type": "markdown",
   "metadata": {},
   "source": [
    "----------\n",
    "### ⑨評価"
   ]
  },
  {
   "cell_type": "markdown",
   "metadata": {},
   "source": [
    "### ⑨－１：再現率と適合率のトレードオフと閾値の確認\n",
    "KerasやTensorflowといったディープラーニングのフレームワークは、scikit-learnとは違い、クラス毎の所属確率を予測します。<br>\n",
    "この予測確率が閾値を超えたときに、そのクラスに該当するものと予測します。<br>\n",
    "閾値を1%刻みで変更しながら正解率、再現率、適合率の変化を確認します。<br>\n",
    "利用シーンを考えるとブレーキを踏まなければならないときに踏むことが重要なので、再現率を重視したほうが良いでしょう。<br>\n",
    "そこで、再現率が99%になる閾値を探します。"
   ]
  },
  {
   "cell_type": "code",
   "execution_count": 16,
   "metadata": {},
   "outputs": [
    {
     "name": "stdout",
     "output_type": "stream",
     "text": [
      "_________________________________________________________________\n",
      "Layer (type)                 Output Shape              Param #   \n",
      "=================================================================\n",
      "dense_111 (Dense)            (None, 256)               1792      \n",
      "_________________________________________________________________\n",
      "dropout_80 (Dropout)         (None, 256)               0         \n",
      "_________________________________________________________________\n",
      "dense_112 (Dense)            (None, 64)                16448     \n",
      "_________________________________________________________________\n",
      "dropout_81 (Dropout)         (None, 64)                0         \n",
      "_________________________________________________________________\n",
      "dense_113 (Dense)            (None, 32)                2080      \n",
      "_________________________________________________________________\n",
      "dropout_82 (Dropout)         (None, 32)                0         \n",
      "_________________________________________________________________\n",
      "dense_114 (Dense)            (None, 1)                 33        \n",
      "=================================================================\n",
      "Total params: 20,353\n",
      "Trainable params: 20,353\n",
      "Non-trainable params: 0\n",
      "_________________________________________________________________\n",
      "validation_acc:0.8475\n"
     ]
    },
    {
     "data": {
      "image/png": "[encoded data removed]",
      "text/plain": [
       "<matplotlib.figure.Figure at 0x44debdd8>"
      ]
     },
     "metadata": {},
     "output_type": "display_data"
    }
   ],
   "source": [
    "#---------------------------------------\n",
    "#評価⑨\n",
    "#---------------------------------------\n",
    "model = load_model('temp_bestdl_model.h5') #暫定ベストモデルを読み込む\n",
    "model.summary()\n",
    "scores = model.evaluate(val_x, val_y, verbose=0,batch_size=512)\n",
    "print(\"validation_acc:%.4f\"%scores[1])\n",
    "\n",
    "#再現率(recall)と適合率(precision)のトレードオフ確認\n",
    "val_acc_list=[]\n",
    "val_prec_list=[]\n",
    "val_rec_list=[]\n",
    "predicted_proba_validation_y = model.predict(val_x, batch_size=512)\n",
    "for thres_p in range(101):\n",
    "    # thres_pの閾値で予測した際のラベルを作成。\n",
    "    pred_val_y = [1. if p >= thres_p/100. else 0. \\\n",
    "                  for p in predicted_proba_validation_y] \n",
    "    temp_cm = confusion_matrix(val_y, pred_val_y)\n",
    "    \n",
    "    val_acc = (temp_cm[0][0] + temp_cm[1][1])/np.sum(temp_cm) * 100.\n",
    "    val_acc_list.append(val_acc) # 正解率をリストに追加\n",
    "    val_perc = (temp_cm[1][1]) / (temp_cm[0][1] + temp_cm[1][1] + 1.e-18) * 100.\n",
    "    val_prec_list.append(val_perc) # 適合率をリストに追加\n",
    "    val_rec = (temp_cm[1][1]) / np.sum(temp_cm[1]) * 100.\n",
    "    val_rec_list.append(val_rec) # 再現率をリストに追加\n",
    "plt.plot(val_acc_list, label='accuracy')\n",
    "plt.plot(val_rec_list, label='recall')  \n",
    "plt.plot(val_prec_list, label='precision')  \n",
    "plt.xlabel('Threshold(%)')\n",
    "plt.ylabel('Percentage(%)')\n",
    "plt.legend()  \n",
    "plt.show()\n",
    "\n",
    "#再現率（Recall）が99%となる閾値算出\n",
    "for th in range(101):\n",
    "    if val_rec_list[th] < 99.:\n",
    "        break\n",
    "th = np.max( [th-1., 0.] )"
   ]
  },
  {
   "cell_type": "markdown",
   "metadata": {},
   "source": [
    "### ⑨－２：テストデータでの評価\n",
    "まずは閾値を50%にしたときの結果を確認します。<br>\n",
    "ここでは、混合行列で結果を出力していますが、必要に応じて正解率、再現率、適合率、F値などを計算してみましょう。"
   ]
  },
  {
   "cell_type": "code",
   "execution_count": 17,
   "metadata": {},
   "outputs": [
    {
     "name": "stdout",
     "output_type": "stream",
     "text": [
      "[[781 211]\n",
      " [105 903]]\n"
     ]
    }
   ],
   "source": [
    "pred_proba_test_y = model.predict(test_x, batch_size=512)\n",
    "# 閾値50%とした時の予測ラベル\n",
    "pred_test_y = [1. if p >= 50./100. else 0. for p in pred_proba_test_y] \n",
    "temp_cm = confusion_matrix(test_y, pred_test_y)\n",
    "print(temp_cm)"
   ]
  },
  {
   "cell_type": "markdown",
   "metadata": {},
   "source": [
    "検証データで再現率が99%になる閾値を用いてテストデータで評価します。<br>\n",
    "ここでは、混合行列で結果を出力していますが、必要に応じて正解率、再現率、適合率、F値などを計算してみましょう。"
   ]
  },
  {
   "cell_type": "code",
   "execution_count": 18,
   "metadata": {},
   "outputs": [
    {
     "name": "stdout",
     "output_type": "stream",
     "text": [
      "[[612 380]\n",
      " [ 13 995]]\n"
     ]
    }
   ],
   "source": [
    "# 再現率99%となるような閾値を使った時の予測ラベル\n",
    "pred_test_y = [1. if p >= th/100. else 0. for p in pred_proba_test_y]\n",
    "temp_cm = confusion_matrix(test_y, pred_test_y)\n",
    "print(temp_cm)"
   ]
  },
  {
   "cell_type": "code",
   "execution_count": null,
   "metadata": {
    "collapsed": true
   },
   "outputs": [],
   "source": []
  }
 ],
 "metadata": {
  "kernelspec": {
   "display_name": "Python 3",
   "language": "python",
   "name": "python3"
  },
  "language_info": {
   "codemirror_mode": {
    "name": "ipython",
    "version": 3
   },
   "file_extension": ".py",
   "mimetype": "text/x-python",
   "name": "python",
   "nbconvert_exporter": "python",
   "pygments_lexer": "ipython3",
   "version": "3.5.3"
  }
 },
 "nbformat": 4,
 "nbformat_minor": 2
}
